{
 "cells": [
  {
   "cell_type": "code",
   "execution_count": 27,
   "metadata": {
    "collapsed": true
   },
   "outputs": [
    {
     "name": "stdout",
     "output_type": "stream",
     "text": [
      "Requirement already satisfied: geopandas in /home/antth/PycharmProjects/spatial_segregation/venv/lib/python3.9/site-packages (0.10.2)\r\n",
      "Requirement already satisfied: pyproj>=2.2.0 in /home/antth/PycharmProjects/spatial_segregation/venv/lib/python3.9/site-packages (from geopandas) (3.3.0)\r\n",
      "Requirement already satisfied: pandas>=0.25.0 in /home/antth/PycharmProjects/spatial_segregation/venv/lib/python3.9/site-packages (from geopandas) (1.4.0)\r\n",
      "Requirement already satisfied: fiona>=1.8 in /home/antth/PycharmProjects/spatial_segregation/venv/lib/python3.9/site-packages (from geopandas) (1.8.21)\r\n",
      "Requirement already satisfied: shapely>=1.6 in /home/antth/PycharmProjects/spatial_segregation/venv/lib/python3.9/site-packages (from geopandas) (1.8.1.post1)\r\n",
      "Requirement already satisfied: cligj>=0.5 in /home/antth/PycharmProjects/spatial_segregation/venv/lib/python3.9/site-packages (from fiona>=1.8->geopandas) (0.7.2)\r\n",
      "Requirement already satisfied: click-plugins>=1.0 in /home/antth/PycharmProjects/spatial_segregation/venv/lib/python3.9/site-packages (from fiona>=1.8->geopandas) (1.1.1)\r\n",
      "Requirement already satisfied: munch in /home/antth/PycharmProjects/spatial_segregation/venv/lib/python3.9/site-packages (from fiona>=1.8->geopandas) (2.5.0)\r\n",
      "Requirement already satisfied: setuptools in /home/antth/PycharmProjects/spatial_segregation/venv/lib/python3.9/site-packages (from fiona>=1.8->geopandas) (57.0.0)\r\n",
      "Requirement already satisfied: attrs>=17 in /home/antth/PycharmProjects/spatial_segregation/venv/lib/python3.9/site-packages (from fiona>=1.8->geopandas) (21.4.0)\r\n",
      "Requirement already satisfied: certifi in /home/antth/PycharmProjects/spatial_segregation/venv/lib/python3.9/site-packages (from fiona>=1.8->geopandas) (2021.10.8)\r\n",
      "Requirement already satisfied: click>=4.0 in /home/antth/PycharmProjects/spatial_segregation/venv/lib/python3.9/site-packages (from fiona>=1.8->geopandas) (8.0.3)\r\n",
      "Requirement already satisfied: six>=1.7 in /home/antth/PycharmProjects/spatial_segregation/venv/lib/python3.9/site-packages (from fiona>=1.8->geopandas) (1.16.0)\r\n",
      "Requirement already satisfied: python-dateutil>=2.8.1 in /home/antth/PycharmProjects/spatial_segregation/venv/lib/python3.9/site-packages (from pandas>=0.25.0->geopandas) (2.8.2)\r\n",
      "Requirement already satisfied: pytz>=2020.1 in /home/antth/PycharmProjects/spatial_segregation/venv/lib/python3.9/site-packages (from pandas>=0.25.0->geopandas) (2021.3)\r\n",
      "Requirement already satisfied: numpy>=1.18.5 in /home/antth/PycharmProjects/spatial_segregation/venv/lib/python3.9/site-packages (from pandas>=0.25.0->geopandas) (1.22.2)\r\n",
      "\u001B[33mWARNING: You are using pip version 22.0.3; however, version 22.0.4 is available.\r\n",
      "You should consider upgrading via the '/home/antth/PycharmProjects/spatial_segregation/venv/bin/python -m pip install --upgrade pip' command.\u001B[0m\u001B[33m\r\n",
      "\u001B[0m"
     ]
    }
   ],
   "source": [
    "from pathlib import Path\n",
    "!pip install geopandas\n",
    "import geopandas as gpd\n",
    "import pandas as pd\n",
    "import numpy as np\n",
    "\n",
    "data_dir = Path('../data')\n",
    "\n",
    "districts = gpd.GeoDataFrame.from_file(data_dir / 'interim' / 'districts_1890.gpkg')\n",
    "districts = districts.set_index('NAME')\n",
    "pop_by_districts = pd.read_csv(data_dir / 'interim' / 'pop_by_district_1880.csv').set_index('district')"
   ]
  },
  {
   "cell_type": "code",
   "execution_count": 28,
   "outputs": [
    {
     "data": {
      "text/plain": "P_Annan_kruunu          7950\nLikolampi               4155\nKolikkoinmäki           4049\nSorvali                 2960\nHavi                    2810\nPikiruukki              2170\nPapula                  2050\nSaunalahti              1474\nHiekka                  1464\nViipurin_esikaupunki     422\nRepola                   344\nPantsarlahti             315\nValli                    300\nSalakkalahti             222\nPietarin_esikaupunki     152\ndtype: int64"
     },
     "execution_count": 28,
     "metadata": {},
     "output_type": "execute_result"
    }
   ],
   "source": [
    "population = pop_by_districts.total_men + pop_by_districts.total_women\n",
    "density = districts.SHAPE_Area / population\n",
    "density = density.sort_values(ascending=False).dropna().round().astype(int)\n",
    "density"
   ],
   "metadata": {
    "collapsed": false,
    "pycharm": {
     "name": "#%%\n"
    }
   }
  }
 ],
 "metadata": {
  "kernelspec": {
   "display_name": "Python 3",
   "language": "python",
   "name": "python3"
  },
  "language_info": {
   "codemirror_mode": {
    "name": "ipython",
    "version": 2
   },
   "file_extension": ".py",
   "mimetype": "text/x-python",
   "name": "python",
   "nbconvert_exporter": "python",
   "pygments_lexer": "ipython2",
   "version": "2.7.6"
  }
 },
 "nbformat": 4,
 "nbformat_minor": 0
}