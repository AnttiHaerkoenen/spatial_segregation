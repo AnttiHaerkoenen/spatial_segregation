{
 "cells": [
  {
   "cell_type": "markdown",
   "metadata": {
    "collapsed": true,
    "pycharm": {
     "name": "#%% md\n"
    }
   },
   "source": [
    "# Surface-based segregation\n",
    "\n",
    "## Introduction\n",
    "#todo\n"
   ]
  },
  {
   "cell_type": "code",
   "execution_count": 9,
   "outputs": [],
   "source": [
    "import os\n",
    "\n",
    "import numpy as np\n",
    "import pandas as pd\n",
    "import geopandas as gpd\n",
    "import matplotlib.pyplot as plt\n",
    "from shapely.geometry import Point, Polygon\n",
    "\n",
    "from spatial_segregation import surface_dissim\n"
   ],
   "metadata": {
    "collapsed": false,
    "pycharm": {
     "name": "#%%\n",
     "is_executing": false
    }
   }
  },
  {
   "cell_type": "markdown",
   "source": [
    "\n",
    "## Aspatial indices\n",
    "#todo\n",
    "\n",
    "## Kernels\n",
    "#todo\n",
    "\n",
    "## Synthetic data\n",
    "\n",
    "Testing the measurements using synthetic data gives some idea about the nature of measurement.\n",
    "O'Sullivan and Wong use synthetic data representing four different scenarios.\n",
    "We will plot inhabitants using colored squares and the area of interest using a red boundary.\n"
   ],
   "metadata": {
    "collapsed": false,
    "pycharm": {
     "name": "#%% md\n"
    }
   }
  },
  {
   "cell_type": "code",
   "execution_count": 1,
   "outputs": [
    {
     "traceback": [
      "\u001b[0;31m---------------------------------------------------------------------------\u001b[0m",
      "\u001b[0;31mNameError\u001b[0m                                 Traceback (most recent call last)",
      "\u001b[0;32m<ipython-input-1-c04bbb4a5347>\u001b[0m in \u001b[0;36m<module>\u001b[0;34m\u001b[0m\n\u001b[1;32m      6\u001b[0m     \u001b[0;34m(\u001b[0m\u001b[0;36m9.5\u001b[0m\u001b[0;34m,\u001b[0m \u001b[0;36m9.5\u001b[0m\u001b[0;34m)\u001b[0m\u001b[0;34m,\u001b[0m\u001b[0;34m\u001b[0m\u001b[0;34m\u001b[0m\u001b[0m\n\u001b[1;32m      7\u001b[0m ]\n\u001b[0;32m----> 8\u001b[0;31m \u001b[0marea_of_interest\u001b[0m \u001b[0;34m=\u001b[0m \u001b[0mPolygon\u001b[0m\u001b[0;34m(\u001b[0m\u001b[0mcorners\u001b[0m\u001b[0;34m)\u001b[0m\u001b[0;34m\u001b[0m\u001b[0;34m\u001b[0m\u001b[0m\n\u001b[0m\u001b[1;32m      9\u001b[0m \u001b[0mx\u001b[0m \u001b[0;34m=\u001b[0m \u001b[0mnp\u001b[0m\u001b[0;34m.\u001b[0m\u001b[0marange\u001b[0m\u001b[0;34m(\u001b[0m\u001b[0;36m0\u001b[0m\u001b[0;34m,\u001b[0m \u001b[0;36m40\u001b[0m\u001b[0;34m)\u001b[0m\u001b[0;34m\u001b[0m\u001b[0;34m\u001b[0m\u001b[0m\n\u001b[1;32m     10\u001b[0m \u001b[0my\u001b[0m \u001b[0;34m=\u001b[0m \u001b[0mnp\u001b[0m\u001b[0;34m.\u001b[0m\u001b[0marange\u001b[0m\u001b[0;34m(\u001b[0m\u001b[0;36m0\u001b[0m\u001b[0;34m,\u001b[0m \u001b[0;36m40\u001b[0m\u001b[0;34m)\u001b[0m\u001b[0;34m\u001b[0m\u001b[0;34m\u001b[0m\u001b[0m\n",
      "\u001b[0;31mNameError\u001b[0m: name 'Polygon' is not defined"
     ],
     "ename": "NameError",
     "evalue": "name 'Polygon' is not defined",
     "output_type": "error"
    }
   ],
   "source": [
    "corners = [\n",
    "    (9.5, 9.5),\n",
    "    (9.5, 29.5),\n",
    "    (29.5, 29.5),\n",
    "    (29.5, 9.5),\n",
    "    (9.5, 9.5),\n",
    "]\n",
    "area_of_interest = Polygon(corners)\n",
    "x = np.arange(0, 40)\n",
    "y = np.arange(0, 40)\n",
    "xx, yy = np.meshgrid(x, y)\n",
    "points = [Point(x, y) for (x, y) in zip(xx.ravel(), yy.ravel())]\n",
    "geometry = gpd.GeoSeries(pd.Series(points))\n"
   ],
   "metadata": {
    "collapsed": false,
    "pycharm": {
     "name": "#%%\n",
     "is_executing": false
    }
   }
  },
  {
   "cell_type": "markdown",
   "source": [
    "\n",
    "i) 1-km checkerboard\n"
   ],
   "metadata": {
    "collapsed": false,
    "pycharm": {
     "name": "#%% md\n"
    }
   }
  },
  {
   "cell_type": "code",
   "execution_count": 97,
   "outputs": [
    {
     "data": {
      "text/plain": "[<matplotlib.lines.Line2D at 0x7fc850892390>]"
     },
     "metadata": {},
     "output_type": "execute_result",
     "execution_count": 97
    },
    {
     "data": {
      "text/plain": "<Figure size 432x288 with 1 Axes>",
      "image/png": "[encoded data removed]"
     },
     "metadata": {
      "needs_background": "light"
     },
     "output_type": "display_data"
    }
   ],
   "source": [
    "black = [1000 if p.x % 2 == p.y % 2  else 0 for p in geometry]\n",
    "white = [1000 if p.x % 2 != p.y % 2  else 0 for p in geometry]\n",
    "df1 = gpd.GeoDataFrame({'geometry': geometry, 'white': white, 'black': black})\n",
    "\n",
    "df1.plot(column='black', markersize=18, cmap='binary', marker='s')\n",
    "plt.plot(*area_of_interest.exterior.xy, lw=3, color='red')\n"
   ],
   "metadata": {
    "collapsed": false,
    "pycharm": {
     "name": "#%%\n",
     "is_executing": false
    }
   }
  },
  {
   "cell_type": "markdown",
   "source": [
    "ii) 5-km checkerboard\n"
   ],
   "metadata": {
    "collapsed": false,
    "pycharm": {
     "name": "#%% md\n"
    }
   }
  },
  {
   "cell_type": "code",
   "execution_count": 105,
   "outputs": [
    {
     "name": "stdout",
     "text": [
      "           geometry  white  black\n0       POINT (0 0)      0      1\n1       POINT (1 0)      0      1\n2       POINT (2 0)      0      1\n3       POINT (3 0)      0      1\n4       POINT (4 0)      0      1\n5       POINT (5 0)      1      0\n6       POINT (6 0)      1      0\n7       POINT (7 0)      1      0\n8       POINT (8 0)      1      0\n9       POINT (9 0)      1      0\n10     POINT (10 0)      0      1\n11     POINT (11 0)      0      1\n12     POINT (12 0)      0      1\n13     POINT (13 0)      0      1\n14     POINT (14 0)      0      1\n15     POINT (15 0)      1      0\n16     POINT (16 0)      1      0\n17     POINT (17 0)      1      0\n18     POINT (18 0)      1      0\n19     POINT (19 0)      1      0\n20     POINT (20 0)      0      1\n21     POINT (21 0)      0      1\n22     POINT (22 0)      0      1\n23     POINT (23 0)      0      1\n24     POINT (24 0)      0      1\n25     POINT (25 0)      1      0\n26     POINT (26 0)      1      0\n27     POINT (27 0)      1      0\n28     POINT (28 0)      1      0\n29     POINT (29 0)      1      0\n...             ...    ...    ...\n1570  POINT (10 39)      1      0\n1571  POINT (11 39)      1      0\n1572  POINT (12 39)      1      0\n1573  POINT (13 39)      1      0\n1574  POINT (14 39)      1      0\n1575  POINT (15 39)      0      1\n1576  POINT (16 39)      0      1\n1577  POINT (17 39)      0      1\n1578  POINT (18 39)      0      1\n1579  POINT (19 39)      0      1\n1580  POINT (20 39)      1      0\n1581  POINT (21 39)      1      0\n1582  POINT (22 39)      1      0\n1583  POINT (23 39)      1      0\n1584  POINT (24 39)      1      0\n1585  POINT (25 39)      0      1\n1586  POINT (26 39)      0      1\n1587  POINT (27 39)      0      1\n1588  POINT (28 39)      0      1\n1589  POINT (29 39)      0      1\n1590  POINT (30 39)      1      0\n1591  POINT (31 39)      1      0\n1592  POINT (32 39)      1      0\n1593  POINT (33 39)      1      0\n1594  POINT (34 39)      1      0\n1595  POINT (35 39)      0      1\n1596  POINT (36 39)      0      1\n1597  POINT (37 39)      0      1\n1598  POINT (38 39)      0      1\n1599  POINT (39 39)      0      1\n\n[1600 rows x 3 columns]\n"
     ],
     "output_type": "stream"
    },
    {
     "data": {
      "text/plain": "[<matplotlib.lines.Line2D at 0x7fc8506d5518>]"
     },
     "metadata": {},
     "output_type": "execute_result",
     "execution_count": 105
    },
    {
     "data": {
      "text/plain": "<Figure size 432x288 with 1 Axes>",
      "image/png": "[encoded data removed]"
     },
     "metadata": {
      "needs_background": "light"
     },
     "output_type": "display_data"
    }
   ],
   "source": [
    "black = [1000 if p.x // 5 % 2 == p.y // 5 % 2  else 0 for p in geometry]\n",
    "white = [1000 if p.x // 5 % 2 != p.y // 5 % 2  else 0 for p in geometry]\n",
    "df2 = gpd.GeoDataFrame({'geometry': geometry, 'white': white, 'black': black})\n",
    "\n",
    "df2.plot(column='black', markersize=18, cmap='binary', marker='s')\n",
    "plt.plot(*area_of_interest.exterior.xy, lw=3, color='red')\n"
   ],
   "metadata": {
    "collapsed": false,
    "pycharm": {
     "name": "#%%\n",
     "is_executing": false
    }
   }
  },
  {
   "cell_type": "markdown",
   "source": [
    "iii) East-west segregated\n"
   ],
   "metadata": {
    "collapsed": false,
    "pycharm": {
     "name": "#%% md\n"
    }
   }
  },
  {
   "cell_type": "code",
   "execution_count": 78,
   "outputs": [
    {
     "data": {
      "text/plain": "[<matplotlib.lines.Line2D at 0x7fc850d00da0>]"
     },
     "metadata": {},
     "output_type": "execute_result",
     "execution_count": 78
    },
    {
     "data": {
      "text/plain": "<Figure size 432x288 with 1 Axes>",
      "image/png": "[encoded data removed]"
     },
     "metadata": {
      "needs_background": "light"
     },
     "output_type": "display_data"
    }
   ],
   "source": [
    "\n",
    "black = [1000 if p.x < 20 else 0 for p in geometry]\n",
    "white = [1000 if p.x > 20 else 0 for p in geometry]\n",
    "df3 = gpd.GeoDataFrame({'geometry': geometry, 'white': white, 'black': black})\n",
    "\n",
    "df3.plot(column='black', markersize=18, cmap='binary', marker='s')\n",
    "plt.plot(*area_of_interest.exterior.xy, lw=3, color='red')\n"
   ],
   "metadata": {
    "collapsed": false,
    "pycharm": {
     "name": "#%%\n",
     "is_executing": false
    }
   }
  },
  {
   "cell_type": "markdown",
   "source": [
    "\n",
    "iv) \"Ghetto\"\n"
   ],
   "metadata": {
    "collapsed": false,
    "pycharm": {
     "name": "#%% md\n"
    }
   }
  },
  {
   "cell_type": "code",
   "execution_count": 80,
   "outputs": [
    {
     "data": {
      "text/plain": "[<matplotlib.lines.Line2D at 0x7fc850c6a5c0>]"
     },
     "metadata": {},
     "output_type": "execute_result",
     "execution_count": 80
    },
    {
     "data": {
      "text/plain": "<Figure size 432x288 with 1 Axes>",
      "image/png": "[encoded data removed]"
     },
     "metadata": {
      "needs_background": "light"
     },
     "output_type": "display_data"
    }
   ],
   "source": [
    "\n",
    "ghetto = Point(17.5, 27.5).buffer(10)\n",
    "black = [1000 if ghetto.contains(p) else 0 for p in geometry]\n",
    "white = [1000 if not ghetto.contains(p) else 0 for p in geometry]\n",
    "df4 = gpd.GeoDataFrame({'geometry': geometry, 'white': white, 'black': black})\n",
    "\n",
    "df4.plot(column='black', markersize=18, cmap='binary', marker='s')\n",
    "plt.plot(*area_of_interest.exterior.xy, lw=3, color='red')\n"
   ],
   "metadata": {
    "collapsed": false,
    "pycharm": {
     "name": "#%%\n",
     "is_executing": false
    }
   }
  },
  {
   "cell_type": "code",
   "execution_count": 9,
   "outputs": [
    {
     "name": "stderr",
     "text": [
      "/home/antth/anaconda3/envs/spatial_segregation/lib/python3.7/site-packages/geopandas/geodataframe.py:65: UserWarning: Pandas doesn't allow columns to be created via a new attribute name - see https://pandas.pydata.org/pandas-docs/stable/indexing.html#attribute-access\n  super(GeoDataFrame, self).__setattr__(attr, val)\n",
      "/home/antth/anaconda3/envs/spatial_segregation/lib/python3.7/site-packages/geopandas/geodataframe.py:65: UserWarning: Pandas doesn't allow columns to be created via a new attribute name - see https://pandas.pydata.org/pandas-docs/stable/indexing.html#attribute-access\n  super(GeoDataFrame, self).__setattr__(attr, val)\n",
      "/home/antth/anaconda3/envs/spatial_segregation/lib/python3.7/site-packages/geopandas/geodataframe.py:65: UserWarning: Pandas doesn't allow columns to be created via a new attribute name - see https://pandas.pydata.org/pandas-docs/stable/indexing.html#attribute-access\n  super(GeoDataFrame, self).__setattr__(attr, val)\n",
      "/home/antth/anaconda3/envs/spatial_segregation/lib/python3.7/site-packages/geopandas/geodataframe.py:65: UserWarning: Pandas doesn't allow columns to be created via a new attribute name - see https://pandas.pydata.org/pandas-docs/stable/indexing.html#attribute-access\n  super(GeoDataFrame, self).__setattr__(attr, val)\n",
      "/home/antth/anaconda3/envs/spatial_segregation/lib/python3.7/site-packages/geopandas/geodataframe.py:65: UserWarning: Pandas doesn't allow columns to be created via a new attribute name - see https://pandas.pydata.org/pandas-docs/stable/indexing.html#attribute-access\n  super(GeoDataFrame, self).__setattr__(attr, val)\n",
      "/home/antth/anaconda3/envs/spatial_segregation/lib/python3.7/site-packages/geopandas/geodataframe.py:65: UserWarning: Pandas doesn't allow columns to be created via a new attribute name - see https://pandas.pydata.org/pandas-docs/stable/indexing.html#attribute-access\n  super(GeoDataFrame, self).__setattr__(attr, val)\n",
      "/home/antth/anaconda3/envs/spatial_segregation/lib/python3.7/site-packages/geopandas/geodataframe.py:65: UserWarning: Pandas doesn't allow columns to be created via a new attribute name - see https://pandas.pydata.org/pandas-docs/stable/indexing.html#attribute-access\n  super(GeoDataFrame, self).__setattr__(attr, val)\n",
      "/home/antth/anaconda3/envs/spatial_segregation/lib/python3.7/site-packages/geopandas/geodataframe.py:65: UserWarning: Pandas doesn't allow columns to be created via a new attribute name - see https://pandas.pydata.org/pandas-docs/stable/indexing.html#attribute-access\n  super(GeoDataFrame, self).__setattr__(attr, val)\n"
     ],
     "output_type": "stream"
    },
    {
     "name": "stdout",
     "text": [
      "0.02553714841397814\n",
      "0.7235027796350935\n",
      "0.9922961255158702\n",
      "0.9676216877936841\n"
     ],
     "output_type": "stream"
    }
   ],
   "source": [
    "\n",
    "for df in df1, df2, df3, df4:\n",
    "    s, _ = surface_dissim(\n",
    "        df,\n",
    "        function='quartic',\n",
    "        bandwidth=2.5,\n",
    "        group_1_pop_var='black',\n",
    "        group_2_pop_var='white',\n",
    "    )\n",
    "    print(s)\n",
    "    "
   ],
   "metadata": {
    "collapsed": false,
    "pycharm": {
     "name": "#%%\n",
     "is_executing": false
    }
   }
  },
  {
   "cell_type": "markdown",
   "source": [
    "\n",
    "Results\n",
    "\n",
    "|Number |Description          | S (global) | S (area of interest) |\n",
    "|-------|---------------------|------------|----------------------|\n",
    "|i      |1-km checkerboard    |            |                 |\n",
    "|ii     |5-km checkerboard    |            |                 |\n",
    "|iii    |East-west segregated |            |                 |\n",
    "|iv     |\"Ghetto\"             |            |                 |\n",
    "\n",
    "## References\n",
    "\n",
    "* O'Sullivan, D. and Wong, D. W. (2007), A Surface‐Based Approach to Measuring Spatial Segregation.\n",
    "Geographical Analysis, 39: 147-168. doi:10.1111/j.1538-4632.2007.00699.x\n",
    "\n"
   ],
   "metadata": {
    "collapsed": false,
    "pycharm": {
     "name": "#%% md\n"
    }
   }
  }
 ],
 "metadata": {
  "language_info": {
   "codemirror_mode": {
    "name": "ipython",
    "version": 2
   },
   "file_extension": ".py",
   "mimetype": "text/x-python",
   "name": "python",
   "nbconvert_exporter": "python",
   "pygments_lexer": "ipython2",
   "version": "2.7.6"
  },
  "kernelspec": {
   "name": "python3",
   "language": "python",
   "display_name": "Python 3"
  },
  "pycharm": {
   "stem_cell": {
    "cell_type": "raw",
    "source": [],
    "metadata": {
     "collapsed": false
    }
   }
  }
 },
 "nbformat": 4,
 "nbformat_minor": 0
}