{
 "cells": [
  {
   "cell_type": "markdown",
   "metadata": {
    "collapsed": true,
    "pycharm": {
     "name": "#%% md\n"
    }
   },
   "source": [
    "# Surface-based segregation\n",
    "\n",
    "## Introduction\n",
    "#todo\n"
   ]
  },
  {
   "cell_type": "code",
   "execution_count": 11,
   "outputs": [
    {
     "ename": "ModuleNotFoundError",
     "evalue": "No module named 'spatial_segregation.spatial_segregation'",
     "output_type": "error",
     "traceback": [
      "\u001B[0;31m---------------------------------------------------------------------------\u001B[0m",
      "\u001B[0;31mModuleNotFoundError\u001B[0m                       Traceback (most recent call last)",
      "\u001B[0;32m<ipython-input-11-37158f6bfcb6>\u001B[0m in \u001B[0;36m<module>\u001B[0;34m\u001B[0m\n\u001B[1;32m      7\u001B[0m \u001B[0;32mfrom\u001B[0m \u001B[0mshapely\u001B[0m\u001B[0;34m.\u001B[0m\u001B[0mgeometry\u001B[0m \u001B[0;32mimport\u001B[0m \u001B[0mPoint\u001B[0m\u001B[0;34m,\u001B[0m \u001B[0mPolygon\u001B[0m\u001B[0;34m\u001B[0m\u001B[0;34m\u001B[0m\u001B[0m\n\u001B[1;32m      8\u001B[0m \u001B[0;34m\u001B[0m\u001B[0m\n\u001B[0;32m----> 9\u001B[0;31m \u001B[0;32mfrom\u001B[0m \u001B[0mspatial_segregation\u001B[0m\u001B[0;34m.\u001B[0m\u001B[0mspatial_segregation\u001B[0m\u001B[0;34m.\u001B[0m\u001B[0msurface_based\u001B[0m \u001B[0;32mimport\u001B[0m \u001B[0msurface_dissim\u001B[0m\u001B[0;34m\u001B[0m\u001B[0;34m\u001B[0m\u001B[0m\n\u001B[0m\u001B[1;32m     10\u001B[0m \u001B[0;34m\u001B[0m\u001B[0m\n\u001B[1;32m     11\u001B[0m \u001B[0;34m\u001B[0m\u001B[0m\n",
      "\u001B[0;31mModuleNotFoundError\u001B[0m: No module named 'spatial_segregation.spatial_segregation'"
     ]
    }
   ],
   "source": [
    "import os\n",
    "\n",
    "import numpy as np\n",
    "import pandas as pd\n",
    "import geopandas as gpd\n",
    "import matplotlib.pyplot as plt\n",
    "from shapely.geometry import Point, Polygon\n",
    "\n",
    "from spatial_segregation.spatial_segregation.surface_based import surface_dissim\n"
   ],
   "metadata": {
    "collapsed": false,
    "pycharm": {
     "name": "#%%\n"
    }
   }
  },
  {
   "cell_type": "markdown",
   "source": [
    "\n",
    "## Aspatial indices\n",
    "#todo\n",
    "\n",
    "## Kernels\n",
    "#todo\n",
    "\n",
    "## Synthetic data\n",
    "\n",
    "Testing the measurements using synthetic data gives some idea about the nature of measurement.\n",
    "O'Sullivan and Wong use synthetic data representing four different scenarios.\n",
    "We will plot inhabitants using colored squares and the area of interest using a red boundary.\n"
   ],
   "metadata": {
    "collapsed": false,
    "pycharm": {
     "name": "#%% md\n"
    }
   }
  },
  {
   "cell_type": "code",
   "execution_count": null,
   "outputs": [],
   "source": [
    "corners = [\n",
    "    (9.5, 9.5),\n",
    "    (9.5, 29.5),\n",
    "    (29.5, 29.5),\n",
    "    (29.5, 9.5),\n",
    "    (9.5, 9.5),\n",
    "]\n",
    "area_of_interest = Polygon(corners)\n",
    "x = np.arange(0, 40)\n",
    "y = np.arange(0, 40)\n",
    "xx, yy = np.meshgrid(x, y)\n",
    "points = [Point(x, y) for (x, y) in zip(xx.ravel(), yy.ravel())]\n",
    "geometry = gpd.GeoSeries(pd.Series(points))\n"
   ],
   "metadata": {
    "collapsed": false,
    "pycharm": {
     "name": "#%%\n"
    }
   }
  },
  {
   "cell_type": "markdown",
   "source": [
    "\n",
    "i) 1-km checkerboard\n"
   ],
   "metadata": {
    "collapsed": false,
    "pycharm": {
     "name": "#%% md\n"
    }
   }
  },
  {
   "cell_type": "code",
   "execution_count": null,
   "outputs": [],
   "source": [
    "black = [1000 if p.x % 2 == p.y % 2  else 0 for p in geometry]\n",
    "white = [1000 if p.x % 2 != p.y % 2  else 0 for p in geometry]\n",
    "df1 = gpd.GeoDataFrame({'geometry': geometry, 'white': white, 'black': black})\n",
    "\n",
    "df1.plot(column='black', markersize=18, cmap='binary', marker='s')\n",
    "plt.plot(*area_of_interest.exterior.xy, lw=3, color='red')\n"
   ],
   "metadata": {
    "collapsed": false,
    "pycharm": {
     "name": "#%%\n"
    }
   }
  },
  {
   "cell_type": "markdown",
   "source": [
    "ii) 5-km checkerboard\n"
   ],
   "metadata": {
    "collapsed": false,
    "pycharm": {
     "name": "#%% md\n"
    }
   }
  },
  {
   "cell_type": "code",
   "execution_count": null,
   "outputs": [],
   "source": [
    "black = [1000 if p.x // 5 % 2 == p.y // 5 % 2  else 0 for p in geometry]\n",
    "white = [1000 if p.x // 5 % 2 != p.y // 5 % 2  else 0 for p in geometry]\n",
    "df2 = gpd.GeoDataFrame({'geometry': geometry, 'white': white, 'black': black})\n",
    "\n",
    "df2.plot(column='black', markersize=18, cmap='binary', marker='s')\n",
    "plt.plot(*area_of_interest.exterior.xy, lw=3, color='red')\n"
   ],
   "metadata": {
    "collapsed": false,
    "pycharm": {
     "name": "#%%\n"
    }
   }
  },
  {
   "cell_type": "markdown",
   "source": [
    "iii) East-west segregated\n"
   ],
   "metadata": {
    "collapsed": false,
    "pycharm": {
     "name": "#%% md\n"
    }
   }
  },
  {
   "cell_type": "code",
   "execution_count": null,
   "outputs": [],
   "source": [
    "\n",
    "black = [1000 if p.x < 20 else 0 for p in geometry]\n",
    "white = [1000 if p.x > 20 else 0 for p in geometry]\n",
    "df3 = gpd.GeoDataFrame({'geometry': geometry, 'white': white, 'black': black})\n",
    "\n",
    "df3.plot(column='black', markersize=18, cmap='binary', marker='s')\n",
    "plt.plot(*area_of_interest.exterior.xy, lw=3, color='red')\n"
   ],
   "metadata": {
    "collapsed": false,
    "pycharm": {
     "name": "#%%\n"
    }
   }
  },
  {
   "cell_type": "markdown",
   "source": [
    "\n",
    "iv) \"Ghetto\"\n"
   ],
   "metadata": {
    "collapsed": false,
    "pycharm": {
     "name": "#%% md\n"
    }
   }
  },
  {
   "cell_type": "code",
   "execution_count": null,
   "outputs": [],
   "source": [
    "\n",
    "ghetto = Point(17.5, 27.5).buffer(10)\n",
    "black = [1000 if ghetto.contains(p) else 0 for p in geometry]\n",
    "white = [1000 if not ghetto.contains(p) else 0 for p in geometry]\n",
    "df4 = gpd.GeoDataFrame({'geometry': geometry, 'white': white, 'black': black})\n",
    "\n",
    "df4.plot(column='black', markersize=18, cmap='binary', marker='s')\n",
    "plt.plot(*area_of_interest.exterior.xy, lw=3, color='red')\n"
   ],
   "metadata": {
    "collapsed": false,
    "pycharm": {
     "name": "#%%\n"
    }
   }
  },
  {
   "cell_type": "code",
   "execution_count": null,
   "outputs": [],
   "source": [
    "\n",
    "for df in df1, df2, df3, df4:\n",
    "    s, _ = surface_dissim(\n",
    "        data,\n",
    "        function='quartic',\n",
    "        bandwidth=2.5,\n",
    "        group_1_pop_var='black',\n",
    "        group_2_pop_var='white',\n",
    "    )\n",
    "    print(s)\n"
   ],
   "metadata": {
    "collapsed": false,
    "pycharm": {
     "name": "#%%\n"
    }
   }
  },
  {
   "cell_type": "markdown",
   "source": [
    "\n",
    "Only using area of interest:\n"
   ],
   "metadata": {
    "collapsed": false,
    "pycharm": {
     "name": "#%% md\n"
    }
   }
  },
  {
   "cell_type": "code",
   "execution_count": null,
   "outputs": [],
   "source": [
    "\n",
    "for df in df1, df2, df3, df4:\n",
    "    data = df.cx[9.5:29.5, 9.5:29.5]\n",
    "    s, _ = surface_dissim(\n",
    "        df,\n",
    "        function='quartic',\n",
    "        bandwidth=2.5,\n",
    "        group_1_pop_var='black',\n",
    "        group_2_pop_var='white',\n",
    "    )\n",
    "    print(s)\n",
    "\n"
   ],
   "metadata": {
    "collapsed": false,
    "pycharm": {
     "name": "#%%\n"
    }
   }
  },
  {
   "cell_type": "markdown",
   "source": [
    "\n",
    "Results\n",
    "\n",
    "|Number |Description          | S (global) | S (area of interest) |\n",
    "|-------|---------------------|------------|----------------------|\n",
    "|i      |1-km checkerboard    |\n",
    "|ii     |5-km checkerboard    |\n",
    "|iii    |East-west segregated |\n",
    "|iv     |\"Ghetto\"             |\n",
    "\n",
    "## References\n",
    "\n",
    "* O'Sullivan, D. and Wong, D. W. (2007), A Surface‐Based Approach to Measuring Spatial Segregation.\n",
    "Geographical Analysis, 39: 147-168. doi:10.1111/j.1538-4632.2007.00699.x\n",
    "\n"
   ],
   "metadata": {
    "collapsed": false,
    "pycharm": {
     "name": "#%% md\n"
    }
   }
  }
 ],
 "metadata": {
  "language_info": {
   "codemirror_mode": {
    "name": "ipython",
    "version": 2
   },
   "file_extension": ".py",
   "mimetype": "text/x-python",
   "name": "python",
   "nbconvert_exporter": "python",
   "pygments_lexer": "ipython2",
   "version": "2.7.6"
  },
  "kernelspec": {
   "name": "python3",
   "language": "python",
   "display_name": "Python 3"
  }
 },
 "nbformat": 4,
 "nbformat_minor": 0
}