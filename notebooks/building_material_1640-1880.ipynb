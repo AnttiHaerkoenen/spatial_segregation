{
 "cells": [
  {
   "cell_type": "code",
   "execution_count": 179,
   "metadata": {
    "collapsed": true
   },
   "outputs": [
    {
     "name": "stderr",
     "output_type": "stream",
     "text": [
      "C:\\Users\\antth\\AppData\\Local\\Temp\\ipykernel_9932\\2929370045.py:13: FutureWarning:\n",
      "\n",
      "Dropping of nuisance columns in DataFrame reductions (with 'numeric_only=None') is deprecated; in a future version this will raise TypeError.  Select only valid columns before calling the reduction.\n",
      "\n"
     ]
    }
   ],
   "source": [
    "import os\n",
    "from pathlib import Path\n",
    "\n",
    "import pandas as pd\n",
    "import numpy as np\n",
    "import matplotlib.pyplot as plt\n",
    "import cufflinks as cf\n",
    "\n",
    "data_dir = Path('../data')\n",
    "\n",
    "income_groups_1639 = pd.read_csv(data_dir / 'interim' / 'income_groups_1639.csv', index_col='district')\n",
    "income_1880 = pd.read_csv(data_dir / 'interim' / 'income_tax_record_1880.csv', index_col=0)\n",
    "income_1880['total_tax'] = income_1880.sum(axis=1)"
   ]
  },
  {
   "cell_type": "code",
   "execution_count": 180,
   "outputs": [
    {
     "data": {
      "text/plain": "no_tax    0.08\n12_ore    0.73\n16_ore    1.00\ndtype: float64"
     },
     "execution_count": 180,
     "metadata": {},
     "output_type": "execute_result"
    }
   ],
   "source": [
    "totals = income_groups_1639.sum(axis=0)\n",
    "percentiles = (totals / totals.sum()).round(2)\n",
    "cum_percentiles = percentiles.cumsum()\n",
    "cum_percentiles"
   ],
   "metadata": {
    "collapsed": false,
    "pycharm": {
     "name": "#%%\n"
    }
   }
  },
  {
   "cell_type": "code",
   "execution_count": 181,
   "outputs": [
    {
     "data": {
      "text/plain": "0.08      1.0\n0.73      3.0\n1.00    562.0\nName: total_tax, dtype: float64"
     },
     "execution_count": 181,
     "metadata": {},
     "output_type": "execute_result"
    }
   ],
   "source": [
    "breaks = income_1880.total_tax.quantile(cum_percentiles)\n",
    "breaks"
   ],
   "metadata": {
    "collapsed": false,
    "pycharm": {
     "name": "#%%\n"
    }
   }
  },
  {
   "cell_type": "code",
   "execution_count": 182,
   "outputs": [
    {
     "data": {
      "text/plain": "           district plot_number  estate_income  business_income  \\\n0             Valli           1            0.0              0.0   \n1             Valli           2           15.0              0.0   \n2             Valli           2            0.0              0.0   \n3             Valli           2            0.0              0.0   \n4             Valli           2            0.0              0.0   \n...             ...         ...            ...              ...   \n3331  Sorvalinsaari          18            0.0              0.0   \n3332  Sorvalinsaari          18            0.0              0.0   \n3333  Sorvalinsaari          19            0.0              0.0   \n3334  Sorvalinsaari          19            0.0              0.0   \n3335  Sorvalinsaari          19            0.0              0.0   \n\n      salary_pension_income  total_tax class  \n0                       3.0        3.0     2  \n1                      25.0       40.0     3  \n2                       1.0        1.0     1  \n3                       1.0        1.0     1  \n4                      40.0       40.0     3  \n...                     ...        ...   ...  \n3331                    1.0        1.0     1  \n3332                    1.0        1.0     1  \n3333                    1.0        1.0     1  \n3334                    1.0        1.0     1  \n3335                    1.0        1.0     1  \n\n[3336 rows x 7 columns]",
      "text/html": "<div>\n<style scoped>\n    .dataframe tbody tr th:only-of-type {\n        vertical-align: middle;\n    }\n\n    .dataframe tbody tr th {\n        vertical-align: top;\n    }\n\n    .dataframe thead th {\n        text-align: right;\n    }\n</style>\n<table border=\"1\" class=\"dataframe\">\n  <thead>\n    <tr style=\"text-align: right;\">\n      <th></th>\n      <th>district</th>\n      <th>plot_number</th>\n      <th>estate_income</th>\n      <th>business_income</th>\n      <th>salary_pension_income</th>\n      <th>total_tax</th>\n      <th>class</th>\n    </tr>\n  </thead>\n  <tbody>\n    <tr>\n      <th>0</th>\n      <td>Valli</td>\n      <td>1</td>\n      <td>0.0</td>\n      <td>0.0</td>\n      <td>3.0</td>\n      <td>3.0</td>\n      <td>2</td>\n    </tr>\n    <tr>\n      <th>1</th>\n      <td>Valli</td>\n      <td>2</td>\n      <td>15.0</td>\n      <td>0.0</td>\n      <td>25.0</td>\n      <td>40.0</td>\n      <td>3</td>\n    </tr>\n    <tr>\n      <th>2</th>\n      <td>Valli</td>\n      <td>2</td>\n      <td>0.0</td>\n      <td>0.0</td>\n      <td>1.0</td>\n      <td>1.0</td>\n      <td>1</td>\n    </tr>\n    <tr>\n      <th>3</th>\n      <td>Valli</td>\n      <td>2</td>\n      <td>0.0</td>\n      <td>0.0</td>\n      <td>1.0</td>\n      <td>1.0</td>\n      <td>1</td>\n    </tr>\n    <tr>\n      <th>4</th>\n      <td>Valli</td>\n      <td>2</td>\n      <td>0.0</td>\n      <td>0.0</td>\n      <td>40.0</td>\n      <td>40.0</td>\n      <td>3</td>\n    </tr>\n    <tr>\n      <th>...</th>\n      <td>...</td>\n      <td>...</td>\n      <td>...</td>\n      <td>...</td>\n      <td>...</td>\n      <td>...</td>\n      <td>...</td>\n    </tr>\n    <tr>\n      <th>3331</th>\n      <td>Sorvalinsaari</td>\n      <td>18</td>\n      <td>0.0</td>\n      <td>0.0</td>\n      <td>1.0</td>\n      <td>1.0</td>\n      <td>1</td>\n    </tr>\n    <tr>\n      <th>3332</th>\n      <td>Sorvalinsaari</td>\n      <td>18</td>\n      <td>0.0</td>\n      <td>0.0</td>\n      <td>1.0</td>\n      <td>1.0</td>\n      <td>1</td>\n    </tr>\n    <tr>\n      <th>3333</th>\n      <td>Sorvalinsaari</td>\n      <td>19</td>\n      <td>0.0</td>\n      <td>0.0</td>\n      <td>1.0</td>\n      <td>1.0</td>\n      <td>1</td>\n    </tr>\n    <tr>\n      <th>3334</th>\n      <td>Sorvalinsaari</td>\n      <td>19</td>\n      <td>0.0</td>\n      <td>0.0</td>\n      <td>1.0</td>\n      <td>1.0</td>\n      <td>1</td>\n    </tr>\n    <tr>\n      <th>3335</th>\n      <td>Sorvalinsaari</td>\n      <td>19</td>\n      <td>0.0</td>\n      <td>0.0</td>\n      <td>1.0</td>\n      <td>1.0</td>\n      <td>1</td>\n    </tr>\n  </tbody>\n</table>\n<p>3336 rows × 7 columns</p>\n</div>"
     },
     "execution_count": 182,
     "metadata": {},
     "output_type": "execute_result"
    }
   ],
   "source": [
    "classes = pd.cut(\n",
    "    income_1880.total_tax,\n",
    "    bins=[0] + list(breaks),\n",
    "    labels=[1, 2, 3],\n",
    ")\n",
    "income_1880['class'] = classes\n",
    "income_1880"
   ],
   "metadata": {
    "collapsed": false,
    "pycharm": {
     "name": "#%%\n"
    }
   }
  },
  {
   "cell_type": "code",
   "execution_count": 183,
   "outputs": [
    {
     "data": {
      "text/plain": "                            count\ndistrict             class       \nAnina                1        155\n                     2         27\n                     3          5\nHavi                 1         24\n                     2          2\n                     3          2\nHiekka               1         60\n                     2         13\n                     3         13\nHuusniemi            1          0\n                     2          1\n                     3          0\nLikolampi            1         31\n                     2          4\n                     3          1\nMonrepos             1          5\n                     2          0\n                     3          0\nP_Annan_kruunu       1         15\n                     2          5\n                     3          8\nPantsarlahti         1        338\n                     2         57\n                     3         18\nPapula               1         39\n                     2         10\n                     3         16\nPaulovski            1        158\n                     2          8\n                     3          0\nPietarin_esikaupunki 1        543\n                     2        190\n                     3        171\nPikiruukki           1         30\n                     2          5\n                     3          3\nRepola               1         25\n                     2         13\n                     3         41\nSalakkalahti         1         26\n                     2         19\n                     3         67\nSaunalahti           1         25\n                     2          9\n                     3         12\nSorvalinsaari        1         82\n                     2          8\n                     3          0\nTalikkala            1         14\n                     2          0\n                     3          1\nValli                1        279\n                     2        191\n                     3        290\nViipurin_esikaupunki 1        123\n                     2         87\n                     3         66",
      "text/html": "<div>\n<style scoped>\n    .dataframe tbody tr th:only-of-type {\n        vertical-align: middle;\n    }\n\n    .dataframe tbody tr th {\n        vertical-align: top;\n    }\n\n    .dataframe thead th {\n        text-align: right;\n    }\n</style>\n<table border=\"1\" class=\"dataframe\">\n  <thead>\n    <tr style=\"text-align: right;\">\n      <th></th>\n      <th></th>\n      <th>count</th>\n    </tr>\n    <tr>\n      <th>district</th>\n      <th>class</th>\n      <th></th>\n    </tr>\n  </thead>\n  <tbody>\n    <tr>\n      <th rowspan=\"3\" valign=\"top\">Anina</th>\n      <th>1</th>\n      <td>155</td>\n    </tr>\n    <tr>\n      <th>2</th>\n      <td>27</td>\n    </tr>\n    <tr>\n      <th>3</th>\n      <td>5</td>\n    </tr>\n    <tr>\n      <th rowspan=\"3\" valign=\"top\">Havi</th>\n      <th>1</th>\n      <td>24</td>\n    </tr>\n    <tr>\n      <th>2</th>\n      <td>2</td>\n    </tr>\n    <tr>\n      <th>3</th>\n      <td>2</td>\n    </tr>\n    <tr>\n      <th rowspan=\"3\" valign=\"top\">Hiekka</th>\n      <th>1</th>\n      <td>60</td>\n    </tr>\n    <tr>\n      <th>2</th>\n      <td>13</td>\n    </tr>\n    <tr>\n      <th>3</th>\n      <td>13</td>\n    </tr>\n    <tr>\n      <th rowspan=\"3\" valign=\"top\">Huusniemi</th>\n      <th>1</th>\n      <td>0</td>\n    </tr>\n    <tr>\n      <th>2</th>\n      <td>1</td>\n    </tr>\n    <tr>\n      <th>3</th>\n      <td>0</td>\n    </tr>\n    <tr>\n      <th rowspan=\"3\" valign=\"top\">Likolampi</th>\n      <th>1</th>\n      <td>31</td>\n    </tr>\n    <tr>\n      <th>2</th>\n      <td>4</td>\n    </tr>\n    <tr>\n      <th>3</th>\n      <td>1</td>\n    </tr>\n    <tr>\n      <th rowspan=\"3\" valign=\"top\">Monrepos</th>\n      <th>1</th>\n      <td>5</td>\n    </tr>\n    <tr>\n      <th>2</th>\n      <td>0</td>\n    </tr>\n    <tr>\n      <th>3</th>\n      <td>0</td>\n    </tr>\n    <tr>\n      <th rowspan=\"3\" valign=\"top\">P_Annan_kruunu</th>\n      <th>1</th>\n      <td>15</td>\n    </tr>\n    <tr>\n      <th>2</th>\n      <td>5</td>\n    </tr>\n    <tr>\n      <th>3</th>\n      <td>8</td>\n    </tr>\n    <tr>\n      <th rowspan=\"3\" valign=\"top\">Pantsarlahti</th>\n      <th>1</th>\n      <td>338</td>\n    </tr>\n    <tr>\n      <th>2</th>\n      <td>57</td>\n    </tr>\n    <tr>\n      <th>3</th>\n      <td>18</td>\n    </tr>\n    <tr>\n      <th rowspan=\"3\" valign=\"top\">Papula</th>\n      <th>1</th>\n      <td>39</td>\n    </tr>\n    <tr>\n      <th>2</th>\n      <td>10</td>\n    </tr>\n    <tr>\n      <th>3</th>\n      <td>16</td>\n    </tr>\n    <tr>\n      <th rowspan=\"3\" valign=\"top\">Paulovski</th>\n      <th>1</th>\n      <td>158</td>\n    </tr>\n    <tr>\n      <th>2</th>\n      <td>8</td>\n    </tr>\n    <tr>\n      <th>3</th>\n      <td>0</td>\n    </tr>\n    <tr>\n      <th rowspan=\"3\" valign=\"top\">Pietarin_esikaupunki</th>\n      <th>1</th>\n      <td>543</td>\n    </tr>\n    <tr>\n      <th>2</th>\n      <td>190</td>\n    </tr>\n    <tr>\n      <th>3</th>\n      <td>171</td>\n    </tr>\n    <tr>\n      <th rowspan=\"3\" valign=\"top\">Pikiruukki</th>\n      <th>1</th>\n      <td>30</td>\n    </tr>\n    <tr>\n      <th>2</th>\n      <td>5</td>\n    </tr>\n    <tr>\n      <th>3</th>\n      <td>3</td>\n    </tr>\n    <tr>\n      <th rowspan=\"3\" valign=\"top\">Repola</th>\n      <th>1</th>\n      <td>25</td>\n    </tr>\n    <tr>\n      <th>2</th>\n      <td>13</td>\n    </tr>\n    <tr>\n      <th>3</th>\n      <td>41</td>\n    </tr>\n    <tr>\n      <th rowspan=\"3\" valign=\"top\">Salakkalahti</th>\n      <th>1</th>\n      <td>26</td>\n    </tr>\n    <tr>\n      <th>2</th>\n      <td>19</td>\n    </tr>\n    <tr>\n      <th>3</th>\n      <td>67</td>\n    </tr>\n    <tr>\n      <th rowspan=\"3\" valign=\"top\">Saunalahti</th>\n      <th>1</th>\n      <td>25</td>\n    </tr>\n    <tr>\n      <th>2</th>\n      <td>9</td>\n    </tr>\n    <tr>\n      <th>3</th>\n      <td>12</td>\n    </tr>\n    <tr>\n      <th rowspan=\"3\" valign=\"top\">Sorvalinsaari</th>\n      <th>1</th>\n      <td>82</td>\n    </tr>\n    <tr>\n      <th>2</th>\n      <td>8</td>\n    </tr>\n    <tr>\n      <th>3</th>\n      <td>0</td>\n    </tr>\n    <tr>\n      <th rowspan=\"3\" valign=\"top\">Talikkala</th>\n      <th>1</th>\n      <td>14</td>\n    </tr>\n    <tr>\n      <th>2</th>\n      <td>0</td>\n    </tr>\n    <tr>\n      <th>3</th>\n      <td>1</td>\n    </tr>\n    <tr>\n      <th rowspan=\"3\" valign=\"top\">Valli</th>\n      <th>1</th>\n      <td>279</td>\n    </tr>\n    <tr>\n      <th>2</th>\n      <td>191</td>\n    </tr>\n    <tr>\n      <th>3</th>\n      <td>290</td>\n    </tr>\n    <tr>\n      <th rowspan=\"3\" valign=\"top\">Viipurin_esikaupunki</th>\n      <th>1</th>\n      <td>123</td>\n    </tr>\n    <tr>\n      <th>2</th>\n      <td>87</td>\n    </tr>\n    <tr>\n      <th>3</th>\n      <td>66</td>\n    </tr>\n  </tbody>\n</table>\n</div>"
     },
     "execution_count": 183,
     "metadata": {},
     "output_type": "execute_result"
    }
   ],
   "source": [
    "cross = income_1880[[\"district\", \"class\", \"plot_number\"]].groupby([\"district\", \"class\"]).count()\n",
    "cross.rename(columns={'plot_number': 'count'}, inplace=True)\n",
    "cross.to_csv(data_dir / 'processed' / 'classes_by_district_1880.csv')\n",
    "cross"
   ],
   "metadata": {
    "collapsed": false,
    "pycharm": {
     "name": "#%%\n"
    }
   }
  },
  {
   "cell_type": "code",
   "execution_count": 184,
   "outputs": [
    {
     "data": {
      "text/plain": "CategoricalIndex([1, 2, 3], categories=[1, 2, 3], ordered=True, dtype='category', name='class')"
     },
     "execution_count": 184,
     "metadata": {},
     "output_type": "execute_result"
    }
   ],
   "source": [
    "import cufflinks as cf\n",
    "\n",
    "cross = cross.reset_index()\n",
    "cross = cross.pivot(index='district', columns='class', values='count')\n",
    "# cross = cross[['3', '2', '1']]\n",
    "cross.columns"
   ],
   "metadata": {
    "collapsed": false,
    "pycharm": {
     "name": "#%%\n"
    }
   }
  },
  {
   "cell_type": "code",
   "execution_count": 185,
   "outputs": [
    {
     "data": {
      "text/plain": "<AxesSubplot:ylabel='district'>"
     },
     "execution_count": 185,
     "metadata": {},
     "output_type": "execute_result"
    },
    {
     "data": {
      "text/plain": "<Figure size 432x288 with 1 Axes>",
      "image/png": "[encoded data removed]"
     },
     "metadata": {
      "needs_background": "light"
     },
     "output_type": "display_data"
    }
   ],
   "source": [
    "cross.loc['Valli Viipurin_esikaupunki Pietarin_esikaupunki'.split(' ')].plot(kind='barh', stacked=True)"
   ],
   "metadata": {
    "collapsed": false,
    "pycharm": {
     "name": "#%%\n"
    }
   }
  },
  {
   "cell_type": "code",
   "execution_count": 186,
   "outputs": [
    {
     "data": {
      "text/plain": "<AxesSubplot:ylabel='district'>"
     },
     "execution_count": 186,
     "metadata": {},
     "output_type": "execute_result"
    },
    {
     "data": {
      "text/plain": "<Figure size 432x288 with 1 Axes>",
      "image/png": "[encoded data removed]"
     },
     "metadata": {
      "needs_background": "light"
     },
     "output_type": "display_data"
    }
   ],
   "source": [
    "cross.plot(kind='barh', stacked=True)"
   ],
   "metadata": {
    "collapsed": false,
    "pycharm": {
     "name": "#%%\n"
    }
   }
  },
  {
   "cell_type": "code",
   "execution_count": 187,
   "outputs": [
    {
     "data": {
      "text/plain": "<AxesSubplot:ylabel='district'>"
     },
     "execution_count": 187,
     "metadata": {},
     "output_type": "execute_result"
    },
    {
     "data": {
      "text/plain": "<Figure size 432x288 with 1 Axes>",
      "image/png": "[encoded data removed]"
     },
     "metadata": {
      "needs_background": "light"
     },
     "output_type": "display_data"
    }
   ],
   "source": [
    "income_groups_1639.plot(kind='barh', stacked=True)"
   ],
   "metadata": {
    "collapsed": false,
    "pycharm": {
     "name": "#%%\n"
    }
   }
  }
 ],
 "metadata": {
  "kernelspec": {
   "display_name": "Python 3",
   "language": "python",
   "name": "python3"
  },
  "language_info": {
   "codemirror_mode": {
    "name": "ipython",
    "version": 2
   },
   "file_extension": ".py",
   "mimetype": "text/x-python",
   "name": "python",
   "nbconvert_exporter": "python",
   "pygments_lexer": "ipython2",
   "version": "2.7.6"
  }
 },
 "nbformat": 4,
 "nbformat_minor": 0
}