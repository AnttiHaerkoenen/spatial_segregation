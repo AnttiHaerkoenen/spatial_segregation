{
 "cells": [
  {
   "cell_type": "code",
   "execution_count": 183,
   "metadata": {
    "collapsed": true,
    "pycharm": {
     "name": "#%% setup\n"
    }
   },
   "outputs": [],
   "source": [
    "import os\n",
    "from pathlib import Path\n",
    "from typing import Callable\n",
    "\n",
    "import pandas as pd\n",
    "import geopandas as gpd\n",
    "import numpy as np\n",
    "from shapely.geometry import Point\n",
    "from segregation.aspatial import MinMax\n",
    "import rasterio as rio\n",
    "from scipy.spatial.distance import cdist\n",
    "\n",
    "\n",
    "data_dir = Path('../data')"
   ]
  },
  {
   "cell_type": "code",
   "execution_count": 184,
   "outputs": [],
   "source": [
    "def get_xy(\n",
    "        geodf: gpd.GeoDataFrame,\n",
    "        geometry_col: str = None,\n",
    ") -> gpd.GeoDataFrame:\n",
    "\n",
    "    if not geometry_col:\n",
    "        geometry_col = geodf.geometry.name\n",
    "\n",
    "    if geodf[geometry_col].geom_type[0] == 'Point':\n",
    "        geodf['x'] = geodf[geometry_col].apply(lambda geom: geom.x)\n",
    "        geodf['y'] = geodf[geometry_col].apply(lambda geom: geom.y)\n",
    "    else:\n",
    "        geodf['x'] = geodf[geometry_col].apply(lambda geom: tuple(geom.exterior.coords.xy[0]))\n",
    "        geodf['y'] = geodf[geometry_col].apply(lambda geom: tuple(geom.exterior.coords.xy[1]))\n",
    "    return geodf\n",
    "\n",
    "\n",
    "def kernel_density_surface(\n",
    "        data: gpd.GeoDataFrame,\n",
    "        group: str,\n",
    "        bandwidth,\n",
    "        cell_size,\n",
    "        kernel_function: Callable,\n",
    "):\n",
    "    pop = get_xy(data)\n",
    "    pad = bandwidth * 2\n",
    "\n",
    "    minx, miny, maxx, maxy = pop.geometry.total_bounds\n",
    "\n",
    "    minx -= pad\n",
    "    miny -= pad\n",
    "    maxx += pad\n",
    "    maxy += pad\n",
    "\n",
    "    x = np.arange(minx, maxx, cell_size)\n",
    "    y = np.arange(miny, maxy, cell_size)\n",
    "\n",
    "    X, Y = np.meshgrid(x, y)\n",
    "\n",
    "    xy = np.vstack([Y.ravel(), X.ravel()]).T\n",
    "\n",
    "    U = cdist(xy, pop[['y', 'x']].values, metric='euclidean')\n",
    "    W = kernel_function(U, bandwidth=bandwidth)\n",
    "\n",
    "    density = (W * pop[group].values).sum(axis=1).reshape(X.shape)\n",
    "\n",
    "    geotiff_meta = {\n",
    "        'driver': 'GTiff',\n",
    "        'count': 1,\n",
    "        'dtype': 'float64',\n",
    "        'width': len(x),\n",
    "        'height': len(y),\n",
    "        'crs': data.crs,\n",
    "        'transform': rio.transform.from_bounds(\n",
    "            west=minx,\n",
    "            east=maxx,\n",
    "            north=maxy,\n",
    "            south=miny,\n",
    "            width=len(x),\n",
    "            height=len(y),\n",
    "        )\n",
    "    }\n",
    "\n",
    "    return density[::-1, ], geotiff_meta\n",
    "\n",
    "\n",
    "def get_S(\n",
    "        data,\n",
    "        bandwidth,\n",
    "        cell_size,\n",
    "        kernel_function,\n",
    "):\n",
    "    if data.empty:\n",
    "        return None\n",
    "\n",
    "    density_total, _ = kernel_density_surface(\n",
    "        data,\n",
    "        group='total',\n",
    "        bandwidth=bandwidth,\n",
    "        cell_size=cell_size,\n",
    "        kernel_function=kernel_function,\n",
    "    )\n",
    "    density_orthodox, _ = kernel_density_surface(\n",
    "        data,\n",
    "        group='orthodox',\n",
    "        bandwidth=bandwidth,\n",
    "        cell_size=cell_size,\n",
    "        kernel_function=kernel_function,\n",
    "    )\n",
    "\n",
    "    density = pd.DataFrame({\n",
    "            'orthodox': density_orthodox.flatten(),\n",
    "            'total': density_total.flatten(),\n",
    "         })\n",
    "    S = MinMax(density, 'orthodox', 'total')\n",
    "\n",
    "    return S\n"
   ],
   "metadata": {
    "collapsed": false,
    "pycharm": {
     "name": "#%% Surface-based dissimilarity S\n"
    }
   }
  },
  {
   "cell_type": "code",
   "execution_count": 185,
   "outputs": [],
   "source": [
    "def prepare_pop_data(\n",
    "        population_data: pd.DataFrame,\n",
    "        num_cols=None,\n",
    ") -> pd.DataFrame:\n",
    "\n",
    "    pop_frame = population_data.fillna(value=0)\n",
    "\n",
    "    if not num_cols:\n",
    "        num_cols = [\n",
    "            'total_men',\n",
    "            'total_women',\n",
    "            'orthodox',\n",
    "            'other_christian',\n",
    "            'other_religion',\n",
    "        ]\n",
    "\n",
    "    pop_frame.loc[:, num_cols] = pop_frame.loc[:, num_cols].astype(int)\n",
    "\n",
    "    pop_frame['lutheran'] = pop_frame['total_men total_women'.split()].sum(axis=1) \\\n",
    "                            - pop_frame['other_christian orthodox other_religion'.split()].sum(axis=1)\n",
    "\n",
    "    pop_frame['total'] = pop_frame['other_christian orthodox other_religion lutheran'.split()].sum(axis=1)\n",
    "\n",
    "    return pop_frame"
   ],
   "metadata": {
    "collapsed": false,
    "pycharm": {
     "name": "#%% Data handling\n"
    }
   }
  },
  {
   "cell_type": "code",
   "execution_count": 186,
   "outputs": [],
   "source": [
    "def split_plots(\n",
    "        geodataframe: gpd.GeoDataFrame,\n",
    "        target_col: str,\n",
    "        separator: str = ',',\n",
    ") -> gpd.GeoDataFrame:\n",
    "\n",
    "    new_geodataframe = gpd.GeoDataFrame(columns=geodataframe.columns)\n",
    "\n",
    "    for _, row in geodataframe.iterrows():\n",
    "        plots = str(row[target_col]).split(separator)\n",
    "\n",
    "        if len(plots) < 2:\n",
    "            new_geodataframe = new_geodataframe.append(row)\n",
    "            continue\n",
    "\n",
    "        for plot in plots:\n",
    "            new_row = row\n",
    "            new_row[target_col] = plot\n",
    "            new_geodataframe = new_geodataframe.append(new_row)\n",
    "\n",
    "    assert len(new_geodataframe.index) == len(list(pd.core.common.flatten(\n",
    "        [\n",
    "            str(w).split(separator)\n",
    "            for w\n",
    "            in geodataframe[target_col]\n",
    "        ]))), 'splitting failed'\n",
    "\n",
    "    return new_geodataframe.reindex()\n"
   ],
   "metadata": {
    "collapsed": false,
    "pycharm": {
     "name": "#%% Split plots\n"
    }
   }
  },
  {
   "cell_type": "code",
   "execution_count": 187,
   "outputs": [],
   "source": [
    "def interval_sample(\n",
    "        iterable,\n",
    "        length,\n",
    ") -> list:\n",
    "    ratio = len(iterable) / length\n",
    "    sample = []\n",
    "\n",
    "    last_int = None\n",
    "\n",
    "    for i, n in enumerate(iterable):\n",
    "        integer = i // ratio\n",
    "\n",
    "        if integer != last_int:\n",
    "            last_int = integer\n",
    "            sample.append(n)\n",
    "\n",
    "    assert len(sample) == length\n",
    "\n",
    "    return sample\n",
    "\n",
    "\n",
    "def get_aggregate_locations(\n",
    "        *,\n",
    "        population_data: pd.DataFrame,\n",
    "        location_data: gpd.GeoDataFrame,\n",
    ") -> gpd.GeoDataFrame:\n",
    "\n",
    "    geodata_by_district = []\n",
    "\n",
    "    for dist in population_data['district'].unique():\n",
    "        pop = population_data[population_data.district == dist]\n",
    "        loc = location_data[location_data.district == dist]\n",
    "\n",
    "        pop = pop.reset_index()\n",
    "        loc = loc.reset_index()\n",
    "\n",
    "        district = _get_aggregate_locations_by_district(pop, loc)\n",
    "        geodata_by_district.append(district)\n",
    "\n",
    "    geodata = pd.concat(geodata_by_district, ignore_index=True)\n",
    "    geodata.crs = location_data.crs\n",
    "\n",
    "    return geodata\n",
    "\n",
    "\n",
    "def _get_aggregate_locations_by_district(\n",
    "        population_data: pd.DataFrame,\n",
    "        location_data: gpd.GeoDataFrame,\n",
    ") -> gpd.GeoDataFrame:\n",
    "\n",
    "    len_pop = len(population_data.index)\n",
    "    len_loc = len(location_data.index)\n",
    "\n",
    "    if len_loc == 0 or len_pop == 0:\n",
    "        return gpd.GeoDataFrame()\n",
    "\n",
    "    elif len_loc < len_pop:\n",
    "        sample_index = interval_sample(\n",
    "            population_data.index,\n",
    "            len_loc,\n",
    "        )\n",
    "        new_geom = gpd.GeoDataFrame(\n",
    "            {'geometry': location_data.geometry},\n",
    "            index=sample_index,\n",
    "        )\n",
    "\n",
    "        print(len(sample_index))\n",
    "        print(new_geom)\n",
    "        print(population_data)\n",
    "        print(location_data)\n",
    "\n",
    "        location_data = new_geom\n",
    "\n",
    "    elif len_pop < len_loc:\n",
    "        sample_index = interval_sample(\n",
    "            location_data.index,\n",
    "            len_pop,\n",
    "        )\n",
    "        location_data = location_data.loc[sample_index, ]\n",
    "\n",
    "    location_data = location_data.reset_index()\n",
    "    location_data = location_data.drop(columns=['level_0',  'index'])\n",
    "    population_data = population_data.drop(columns=['page_number', 'district'])\n",
    "\n",
    "    geodata = pd.concat(\n",
    "        [location_data, population_data],\n",
    "        axis=1,\n",
    "    )\n",
    "    geodata = geodata.drop(columns=[\n",
    "        'index',\n",
    "        'Unnamed: 0',\n",
    "    ])\n",
    "\n",
    "    return geodata\n"
   ],
   "metadata": {
    "collapsed": false,
    "pycharm": {
     "name": "#%% Aggregation\n"
    }
   }
  },
  {
   "cell_type": "code",
   "execution_count": 188,
   "outputs": [],
   "source": [
    "def quartic_kernel(u, bandwidth):\n",
    "    return np.where(\n",
    "            np.abs(u) <= bandwidth,\n",
    "            3 / (np.pi * bandwidth * bandwidth) * (1 - (u / bandwidth) ** 2) ** 2,\n",
    "            0\n",
    "    )"
   ],
   "metadata": {
    "collapsed": false,
    "pycharm": {
     "name": "#%% kernel function\n"
    }
   }
  },
  {
   "cell_type": "code",
   "execution_count": 189,
   "outputs": [
    {
     "name": "stdout",
     "output_type": "stream",
     "text": [
      "           100       150       200       250       300\n",
      "1880  0.556771  0.483643  0.431947  0.396315  0.373714\n",
      "1885  0.629565  0.561165  0.518827  0.487116  0.459817\n",
      "1890  0.526507  0.445535  0.403078  0.376961  0.354580\n",
      "1895  0.458875  0.382247  0.334521  0.303933  0.282065\n",
      "1900  0.508875  0.423932  0.372666  0.343311  0.321997\n",
      "1905  0.544618  0.453529  0.398580  0.359421  0.332018\n",
      "1910  0.567357  0.465613  0.394742  0.342165  0.306003\n",
      "1915  0.575495  0.502423  0.460406  0.436515  0.422349\n"
     ]
    },
    {
     "data": {
      "text/plain": "<matplotlib.axes._subplots.AxesSubplot at 0x7fae59e310b8>"
     },
     "execution_count": 189,
     "metadata": {},
     "output_type": "execute_result"
    },
    {
     "data": {
      "text/plain": "<Figure size 432x288 with 1 Axes>",
      "image/png": "[encoded data removed]"
     },
     "metadata": {
      "needs_background": "light"
     },
     "output_type": "display_data"
    }
   ],
   "source": [
    "district_codes = pd.read_csv(data_dir / 'district_codes.csv')\n",
    "district_codes = {k: v for k, v in district_codes.itertuples(index=False)}\n",
    "\n",
    "location_data = gpd.read_file(data_dir / 'intermediary' / 'plots_points_1878.shp')\n",
    "location_data = split_plots(location_data, target_col='NUMBER')\n",
    "location_data['district'] = [district_codes[int(d)] for d in location_data['DISTRICT']]\n",
    "location_data['plot_number'] = [str(i) for i in location_data['NUMBER']]\n",
    "\n",
    "results = {}\n",
    "bws = 100, 150, 200, 250, 300\n",
    "\n",
    "for year in range(1880, 1916, 5):\n",
    "    s_ = []\n",
    "\n",
    "    for bw in bws:\n",
    "\n",
    "        population_data = pd.read_csv(data_dir / 'intermediary' / f'pop_by_page_{year}.csv').pipe(prepare_pop_data)\n",
    "\n",
    "        data = get_aggregate_locations(\n",
    "            population_data=population_data,\n",
    "            location_data=location_data,\n",
    "        )\n",
    "\n",
    "        S = get_S(\n",
    "            data=data,\n",
    "            bandwidth=bw,\n",
    "            cell_size=25,\n",
    "            kernel_function=quartic_kernel,\n",
    "        )\n",
    "\n",
    "        s_.append(S.statistic)\n",
    "\n",
    "    results[year] = s_\n",
    "\n",
    "results = pd.DataFrame.from_dict(\n",
    "    results,\n",
    "    orient='index',\n",
    "    columns=bws,\n",
    ")\n",
    "print(results)\n",
    "results.plot()\n"
   ],
   "metadata": {
    "collapsed": false,
    "pycharm": {
     "name": "#%%\n"
    }
   }
  },
  {
   "cell_type": "markdown",
   "source": [
    "# Results\n",
    "\n",
    "Decrease until Russification\n"
   ],
   "metadata": {
    "collapsed": false,
    "pycharm": {
     "name": "#%% md\n"
    }
   }
  }
 ],
 "metadata": {
  "kernelspec": {
   "display_name": "Python 3",
   "language": "python",
   "name": "python3"
  },
  "language_info": {
   "codemirror_mode": {
    "name": "ipython",
    "version": 2
   },
   "file_extension": ".py",
   "mimetype": "text/x-python",
   "name": "python",
   "nbconvert_exporter": "python",
   "pygments_lexer": "ipython2",
   "version": "2.7.6"
  }
 },
 "nbformat": 4,
 "nbformat_minor": 0
}