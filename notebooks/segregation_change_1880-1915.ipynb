{
 "cells": [
  {
   "cell_type": "code",
   "execution_count": 1,
   "metadata": {
    "collapsed": true,
    "pycharm": {
     "name": "#%% setup\n"
    }
   },
   "outputs": [],
   "source": [
    "import os\n",
    "from pathlib import Path\n",
    "from typing import Callable\n",
    "import warnings\n",
    "\n",
    "import pandas as pd\n",
    "import geopandas as gpd\n",
    "import numpy as np\n",
    "from shapely.geometry import Point\n",
    "from segregation.aspatial import MinMax\n",
    "import rasterio as rio\n",
    "from scipy.spatial.distance import cdist\n",
    "\n",
    "\n",
    "data_dir = Path('../data')"
   ]
  },
  {
   "cell_type": "code",
   "execution_count": 2,
   "outputs": [],
   "source": [
    "def get_xy(\n",
    "        geodf: gpd.GeoDataFrame,\n",
    "        geometry_col: str = None,\n",
    ") -> gpd.GeoDataFrame:\n",
    "\n",
    "    if not geometry_col:\n",
    "        geometry_col = geodf.geometry.name\n",
    "\n",
    "    if geodf[geometry_col].geom_type[0] == 'Point':\n",
    "        geodf['x'] = geodf[geometry_col].apply(lambda geom: geom.x)\n",
    "        geodf['y'] = geodf[geometry_col].apply(lambda geom: geom.y)\n",
    "    else:\n",
    "        geodf['x'] = geodf[geometry_col].apply(lambda geom: tuple(geom.exterior.coords.xy[0]))\n",
    "        geodf['y'] = geodf[geometry_col].apply(lambda geom: tuple(geom.exterior.coords.xy[1]))\n",
    "    return geodf\n",
    "\n",
    "\n",
    "def kernel_density_surface(\n",
    "        data: gpd.GeoDataFrame,\n",
    "        group: str,\n",
    "        bandwidth,\n",
    "        cell_size,\n",
    "        kernel_function: Callable,\n",
    "):\n",
    "    pop = get_xy(data)\n",
    "    pad = bandwidth * 2\n",
    "\n",
    "    minx, miny, maxx, maxy = pop.geometry.total_bounds\n",
    "\n",
    "    minx -= pad\n",
    "    miny -= pad\n",
    "    maxx += pad\n",
    "    maxy += pad\n",
    "\n",
    "    x = np.arange(minx, maxx, cell_size)\n",
    "    y = np.arange(miny, maxy, cell_size)\n",
    "\n",
    "    X, Y = np.meshgrid(x, y)\n",
    "\n",
    "    xy = np.vstack([Y.ravel(), X.ravel()]).T\n",
    "\n",
    "    U = cdist(xy, pop[['y', 'x']].values, metric='euclidean')\n",
    "    W = kernel_function(U, bandwidth=bandwidth)\n",
    "\n",
    "    density = (W * pop[group].values).sum(axis=1).reshape(X.shape)\n",
    "\n",
    "    geotiff_meta = {\n",
    "        'driver': 'GTiff',\n",
    "        'count': 1,\n",
    "        'dtype': 'float64',\n",
    "        'width': len(x),\n",
    "        'height': len(y),\n",
    "        'crs': data.crs,\n",
    "        'transform': rio.transform.from_bounds(\n",
    "            west=minx,\n",
    "            east=maxx,\n",
    "            north=maxy,\n",
    "            south=miny,\n",
    "            width=len(x),\n",
    "            height=len(y),\n",
    "        )\n",
    "    }\n",
    "\n",
    "    return density[::-1, ], geotiff_meta\n",
    "\n",
    "\n",
    "def get_S(\n",
    "        data,\n",
    "        bandwidth,\n",
    "        cell_size,\n",
    "        kernel_function,\n",
    "):\n",
    "    if data.empty:\n",
    "        return None\n",
    "\n",
    "    density_total, _ = kernel_density_surface(\n",
    "        data,\n",
    "        group='total',\n",
    "        bandwidth=bandwidth,\n",
    "        cell_size=cell_size,\n",
    "        kernel_function=kernel_function,\n",
    "    )\n",
    "    density_orthodox, _ = kernel_density_surface(\n",
    "        data,\n",
    "        group='orthodox',\n",
    "        bandwidth=bandwidth,\n",
    "        cell_size=cell_size,\n",
    "        kernel_function=kernel_function,\n",
    "    )\n",
    "\n",
    "    density = pd.DataFrame({\n",
    "            'orthodox': density_orthodox.flatten(),\n",
    "            'total': density_total.flatten(),\n",
    "         })\n",
    "    S = MinMax(density, 'orthodox', 'total')\n",
    "\n",
    "    return S\n"
   ],
   "metadata": {
    "collapsed": false,
    "pycharm": {
     "name": "#%% Surface-based dissimilarity S\n"
    }
   }
  },
  {
   "cell_type": "code",
   "execution_count": 3,
   "outputs": [],
   "source": [
    "def prepare_pop_data(\n",
    "        population_data: pd.DataFrame,\n",
    "        num_cols=None,\n",
    ") -> pd.DataFrame:\n",
    "\n",
    "    pop_frame = population_data.fillna(value=0)\n",
    "\n",
    "    if not num_cols:\n",
    "        num_cols = [\n",
    "            'total_men',\n",
    "            'total_women',\n",
    "            'orthodox',\n",
    "            'other_christian',\n",
    "            'other_religion',\n",
    "        ]\n",
    "\n",
    "    pop_frame.loc[:, num_cols] = pop_frame.loc[:, num_cols].astype(int)\n",
    "\n",
    "    pop_frame['lutheran'] = pop_frame['total_men total_women'.split()].sum(axis=1) \\\n",
    "                            - pop_frame['other_christian orthodox other_religion'.split()].sum(axis=1)\n",
    "\n",
    "    pop_frame['total'] = pop_frame['other_christian orthodox other_religion lutheran'.split()].sum(axis=1)\n",
    "\n",
    "    return pop_frame"
   ],
   "metadata": {
    "collapsed": false,
    "pycharm": {
     "name": "#%% Data handling\n"
    }
   }
  },
  {
   "cell_type": "code",
   "execution_count": 4,
   "outputs": [],
   "source": [
    "def split_plots(\n",
    "        geodataframe: gpd.GeoDataFrame,\n",
    "        target_col: str,\n",
    "        separator: str = ',',\n",
    ") -> gpd.GeoDataFrame:\n",
    "\n",
    "    new_geodataframe = gpd.GeoDataFrame(columns=geodataframe.columns)\n",
    "\n",
    "    for _, row in geodataframe.iterrows():\n",
    "        plots = str(row[target_col]).split(separator)\n",
    "\n",
    "        if len(plots) < 2:\n",
    "            new_geodataframe = new_geodataframe.append(row)\n",
    "            continue\n",
    "\n",
    "        for plot in plots:\n",
    "            new_row = row\n",
    "            new_row[target_col] = plot\n",
    "            new_geodataframe = new_geodataframe.append(new_row)\n",
    "\n",
    "    assert len(new_geodataframe.index) == len(list(pd.core.common.flatten(\n",
    "        [\n",
    "            str(w).split(separator)\n",
    "            for w\n",
    "            in geodataframe[target_col]\n",
    "        ]))), 'splitting failed'\n",
    "\n",
    "    return new_geodataframe.reindex()\n"
   ],
   "metadata": {
    "collapsed": false,
    "pycharm": {
     "name": "#%% Split plots\n"
    }
   }
  },
  {
   "cell_type": "code",
   "execution_count": 5,
   "outputs": [],
   "source": [
    "def quartic_kernel(u, bandwidth):\n",
    "    return np.where(\n",
    "            np.abs(u) <= bandwidth,\n",
    "            3 / (np.pi * bandwidth * bandwidth) * (1 - (u / bandwidth) ** 2) ** 2,\n",
    "            0\n",
    "    )"
   ],
   "metadata": {
    "collapsed": false,
    "pycharm": {
     "name": "#%% kernel function\n"
    }
   }
  },
  {
   "cell_type": "code",
   "execution_count": 6,
   "outputs": [
    {
     "name": "stdout",
     "output_type": "stream",
     "text": [
      "           100       150       200       250       300       400       500\n",
      "1880  0.559166  0.496829  0.446714  0.407897  0.377213  0.332894  0.297595\n",
      "1890  0.534004  0.452861  0.398875  0.363904  0.340725  0.308044  0.280256\n",
      "1900  0.515263  0.429829  0.379056  0.348062  0.326527  0.294227  0.269373\n",
      "1910  0.562807  0.456129  0.390493  0.346308  0.309783  0.254872  0.216320\n",
      "1920  0.511375  0.390346  0.320462  0.272872  0.237793  0.192468  0.171250\n"
     ]
    },
    {
     "data": {
      "text/plain": "<AxesSubplot:>"
     },
     "execution_count": 6,
     "metadata": {},
     "output_type": "execute_result"
    },
    {
     "data": {
      "text/plain": "<Figure size 432x288 with 1 Axes>",
      "image/png": "[encoded data removed]"
     },
     "metadata": {
      "needs_background": "light"
     },
     "output_type": "display_data"
    }
   ],
   "source": [
    "warnings.simplefilter(action='ignore', category=FutureWarning)\n",
    "\n",
    "district_codes = pd.read_csv(data_dir / 'district_codes.csv')\n",
    "district_codes = {k: v for k, v in district_codes.itertuples(index=False)}\n",
    "\n",
    "location_data = gpd.read_file(data_dir / 'intermediary' / 'plots_points_1878.shp')\n",
    "location_data = split_plots(location_data, target_col='NUMBER')\n",
    "location_data['district'] = [district_codes[int(d)] for d in location_data['DISTRICT']]\n",
    "location_data['plot_number'] = [str(i) for i in location_data['NUMBER']]\n",
    "location_data = location_data.set_index(['district', 'plot_number'])\n",
    "\n",
    "results = {}\n",
    "bws = 100, 150, 200, 250, 300, 400, 500\n",
    "\n",
    "for year in range(1880, 1921, 10):\n",
    "    s_ = []\n",
    "\n",
    "    for bw in bws:\n",
    "        population_data = pd.read_csv(\n",
    "            data_dir / 'intermediary' / f'pop_by_page_{year}.csv',\n",
    "            index_col=0,\n",
    "            dtype={'district': str, 'representative_plot': str, 'page_number': str},\n",
    "        ).pipe(prepare_pop_data)\n",
    "\n",
    "        population_data.rename({'representative_plot': 'plot_number'}, axis=1, inplace=True)\n",
    "        population_data = population_data.set_index(['district', 'plot_number'], drop=True)\n",
    "\n",
    "        page_location_data = location_data.join(population_data, on=['district', 'plot_number'])\n",
    "        page_location_data.dropna(axis=0, inplace=True)\n",
    "\n",
    "        S = get_S(\n",
    "            data=page_location_data,\n",
    "            bandwidth=bw,\n",
    "            cell_size=25,\n",
    "            kernel_function=quartic_kernel,\n",
    "        )\n",
    "        # todo fix\n",
    "\n",
    "        s_.append(S.statistic)\n",
    "\n",
    "    results[year] = s_\n",
    "\n",
    "results = pd.DataFrame.from_dict(\n",
    "    results,\n",
    "    orient='index',\n",
    "    columns=bws,\n",
    ")\n",
    "print(results)\n",
    "results.plot()\n"
   ],
   "metadata": {
    "collapsed": false,
    "pycharm": {
     "name": "#%% main\n"
    }
   }
  }
 ],
 "metadata": {
  "kernelspec": {
   "name": "python3",
   "language": "python",
   "display_name": "Python 3"
  },
  "language_info": {
   "codemirror_mode": {
    "name": "ipython",
    "version": 2
   },
   "file_extension": ".py",
   "mimetype": "text/x-python",
   "name": "python",
   "nbconvert_exporter": "python",
   "pygments_lexer": "ipython2",
   "version": "2.7.6"
  }
 },
 "nbformat": 4,
 "nbformat_minor": 0
}