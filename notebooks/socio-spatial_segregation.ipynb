{
 "cells": [
  {
   "cell_type": "code",
   "execution_count": 6,
   "metadata": {},
   "outputs": [],
   "source": [
    "import os\n",
    "from pathlib import Path\n",
    "from typing import Callable\n",
    "import warnings\n",
    "\n",
    "import pandas as pd\n",
    "import geopandas as gpd\n",
    "import numpy as np\n",
    "from shapely.geometry import Point\n",
    "from segregation.aspatial import MinMax, Dissim\n",
    "import rasterio as rio\n",
    "from scipy.spatial.distance import cdist\n",
    "import matplotlib.pyplot as plt\n",
    "\n",
    "\n",
    "def get_xy(\n",
    "        geodf: gpd.GeoDataFrame,\n",
    "        geometry_col: str = None,\n",
    ") -> gpd.GeoDataFrame:\n",
    "\n",
    "    if not geometry_col:\n",
    "        geometry_col = geodf.geometry.name\n",
    "\n",
    "    if geodf[geometry_col].geom_type[0] == 'Point':\n",
    "        geodf['x'] = geodf[geometry_col].apply(lambda geom: geom.x)\n",
    "        geodf['y'] = geodf[geometry_col].apply(lambda geom: geom.y)\n",
    "    else:\n",
    "        geodf['x'] = geodf[geometry_col].apply(lambda geom: tuple(geom.exterior.coords.xy[0]))\n",
    "        geodf['y'] = geodf[geometry_col].apply(lambda geom: tuple(geom.exterior.coords.xy[1]))\n",
    "    return geodf\n",
    "\n",
    "\n",
    "def kernel_density_surface(\n",
    "        data: gpd.GeoDataFrame,\n",
    "        group: str,\n",
    "        bandwidth,\n",
    "        cell_size,\n",
    "        kernel_function: Callable,\n",
    "):\n",
    "    pop = get_xy(data)\n",
    "    pad = bandwidth * 2\n",
    "\n",
    "    minx, miny, maxx, maxy = pop.geometry.total_bounds\n",
    "\n",
    "    minx -= pad\n",
    "    miny -= pad\n",
    "    maxx += pad\n",
    "    maxy += pad\n",
    "\n",
    "    x = np.arange(minx, maxx, cell_size)\n",
    "    y = np.arange(miny, maxy, cell_size)\n",
    "\n",
    "    X, Y = np.meshgrid(x, y)\n",
    "\n",
    "    xy = np.vstack([Y.ravel(), X.ravel()]).T\n",
    "\n",
    "    U = cdist(xy, pop[['y', 'x']].values, metric='euclidean')\n",
    "    W = kernel_function(U, bandwidth=bandwidth)\n",
    "\n",
    "    density = (W * pop[group].values).sum(axis=1).reshape(X.shape)\n",
    "\n",
    "    geotiff_meta = {\n",
    "        'driver': 'GTiff',\n",
    "        'count': 1,\n",
    "        'dtype': 'float64',\n",
    "        'width': len(x),\n",
    "        'height': len(y),\n",
    "        'crs': data.crs,\n",
    "        'transform': rio.transform.from_bounds(\n",
    "            west=minx,\n",
    "            east=maxx,\n",
    "            north=maxy,\n",
    "            south=miny,\n",
    "            width=len(x),\n",
    "            height=len(y),\n",
    "        )\n",
    "    }\n",
    "\n",
    "    return density[::-1, ], geotiff_meta\n",
    "\n",
    "data_dir = Path('../data')"
   ]
  },
  {
   "cell_type": "code",
   "execution_count": 7,
   "metadata": {
    "pycharm": {
     "name": "#%% Split plots\n"
    }
   },
   "outputs": [],
   "source": [
    "def split_plots(\n",
    "        geodataframe: gpd.GeoDataFrame,\n",
    "        target_col: str,\n",
    "        separator: str = ',',\n",
    ") -> gpd.GeoDataFrame:\n",
    "\n",
    "    new_geodataframe = gpd.GeoDataFrame(columns=geodataframe.columns)\n",
    "\n",
    "    for _, row in geodataframe.iterrows():\n",
    "        plots = str(row[target_col]).split(separator)\n",
    "\n",
    "        if len(plots) < 2:\n",
    "            new_geodataframe = new_geodataframe.append(row)\n",
    "            continue\n",
    "\n",
    "        for plot in plots:\n",
    "            new_row = row\n",
    "            new_row[target_col] = plot\n",
    "            new_geodataframe = new_geodataframe.append(new_row)\n",
    "\n",
    "    assert len(new_geodataframe.index) == len(list(pd.core.common.flatten(\n",
    "        [\n",
    "            str(w).split(separator)\n",
    "            for w\n",
    "            in geodataframe[target_col]\n",
    "        ]))), 'splitting failed'\n",
    "\n",
    "    return new_geodataframe.reindex()"
   ]
  },
  {
   "cell_type": "code",
   "execution_count": 8,
   "metadata": {
    "pycharm": {
     "name": "#%%\n"
    }
   },
   "outputs": [
    {
     "ename": "DriverError",
     "evalue": "..\\data\\raw\\city_1846.shp: No such file or directory",
     "output_type": "error",
     "traceback": [
      "\u001B[1;31m---------------------------------------------------------------------------\u001B[0m",
      "\u001B[1;31mCPLE_OpenFailedError\u001B[0m                      Traceback (most recent call last)",
      "\u001B[1;32mfiona/_shim.pyx\u001B[0m in \u001B[0;36mfiona._shim.gdal_open_vector\u001B[1;34m()\u001B[0m\n",
      "\u001B[1;32mfiona/_err.pyx\u001B[0m in \u001B[0;36mfiona._err.exc_wrap_pointer\u001B[1;34m()\u001B[0m\n",
      "\u001B[1;31mCPLE_OpenFailedError\u001B[0m: ..\\data\\raw\\city_1846.shp: No such file or directory",
      "\nDuring handling of the above exception, another exception occurred:\n",
      "\u001B[1;31mDriverError\u001B[0m                               Traceback (most recent call last)",
      "\u001B[1;32m<ipython-input-8-9e43b8cf98a0>\u001B[0m in \u001B[0;36m<module>\u001B[1;34m\u001B[0m\n\u001B[0;32m      7\u001B[0m \u001B[0mlocation_data\u001B[0m\u001B[1;33m[\u001B[0m\u001B[1;34m'plot_number'\u001B[0m\u001B[1;33m]\u001B[0m \u001B[1;33m=\u001B[0m \u001B[1;33m[\u001B[0m\u001B[0mstr\u001B[0m\u001B[1;33m(\u001B[0m\u001B[0mi\u001B[0m\u001B[1;33m)\u001B[0m \u001B[1;32mfor\u001B[0m \u001B[0mi\u001B[0m \u001B[1;32min\u001B[0m \u001B[0mlocation_data\u001B[0m\u001B[1;33m[\u001B[0m\u001B[1;34m'NUMBER'\u001B[0m\u001B[1;33m]\u001B[0m\u001B[1;33m]\u001B[0m\u001B[1;33m\u001B[0m\u001B[1;33m\u001B[0m\u001B[0m\n\u001B[0;32m      8\u001B[0m \u001B[0mlocation_data\u001B[0m \u001B[1;33m=\u001B[0m \u001B[0mlocation_data\u001B[0m\u001B[1;33m.\u001B[0m\u001B[0mset_index\u001B[0m\u001B[1;33m(\u001B[0m\u001B[1;33m[\u001B[0m\u001B[1;34m'district'\u001B[0m\u001B[1;33m,\u001B[0m \u001B[1;34m'plot_number'\u001B[0m\u001B[1;33m]\u001B[0m\u001B[1;33m)\u001B[0m\u001B[1;33m\u001B[0m\u001B[1;33m\u001B[0m\u001B[0m\n\u001B[1;32m----> 9\u001B[1;33m \u001B[0mcity\u001B[0m \u001B[1;33m=\u001B[0m \u001B[0mgpd\u001B[0m\u001B[1;33m.\u001B[0m\u001B[0mread_file\u001B[0m\u001B[1;33m(\u001B[0m\u001B[0mdata_dir\u001B[0m \u001B[1;33m/\u001B[0m \u001B[1;34m'raw'\u001B[0m \u001B[1;33m/\u001B[0m \u001B[1;34m'city_1846.shp'\u001B[0m\u001B[1;33m)\u001B[0m\u001B[1;33m\u001B[0m\u001B[1;33m\u001B[0m\u001B[0m\n\u001B[0m\u001B[0;32m     10\u001B[0m \u001B[0mlocation_data\u001B[0m \u001B[1;33m=\u001B[0m \u001B[0mlocation_data\u001B[0m\u001B[1;33m[\u001B[0m\u001B[1;33m[\u001B[0m\u001B[0mplot\u001B[0m \u001B[1;32mfor\u001B[0m \u001B[0mplot\u001B[0m \u001B[1;32min\u001B[0m \u001B[0mlocation_data\u001B[0m\u001B[1;33m.\u001B[0m\u001B[0mgeometry\u001B[0m \u001B[1;32mif\u001B[0m \u001B[0mcity\u001B[0m\u001B[1;33m.\u001B[0m\u001B[0mcontains\u001B[0m\u001B[1;33m(\u001B[0m\u001B[0mplot\u001B[0m\u001B[1;33m.\u001B[0m\u001B[0mcentroid\u001B[0m\u001B[1;33m)\u001B[0m\u001B[1;33m]\u001B[0m\u001B[1;33m]\u001B[0m\u001B[1;33m\u001B[0m\u001B[1;33m\u001B[0m\u001B[0m\n",
      "\u001B[1;32m~\\Anaconda3\\envs\\spatial_segregation\\lib\\site-packages\\geopandas\\io\\file.py\u001B[0m in \u001B[0;36mread_file\u001B[1;34m(filename, bbox, **kwargs)\u001B[0m\n\u001B[0;32m     74\u001B[0m \u001B[1;33m\u001B[0m\u001B[0m\n\u001B[0;32m     75\u001B[0m     \u001B[1;32mwith\u001B[0m \u001B[0mfiona_env\u001B[0m\u001B[1;33m(\u001B[0m\u001B[1;33m)\u001B[0m\u001B[1;33m:\u001B[0m\u001B[1;33m\u001B[0m\u001B[1;33m\u001B[0m\u001B[0m\n\u001B[1;32m---> 76\u001B[1;33m         \u001B[1;32mwith\u001B[0m \u001B[0mreader\u001B[0m\u001B[1;33m(\u001B[0m\u001B[0mpath_or_bytes\u001B[0m\u001B[1;33m,\u001B[0m \u001B[1;33m**\u001B[0m\u001B[0mkwargs\u001B[0m\u001B[1;33m)\u001B[0m \u001B[1;32mas\u001B[0m \u001B[0mfeatures\u001B[0m\u001B[1;33m:\u001B[0m\u001B[1;33m\u001B[0m\u001B[1;33m\u001B[0m\u001B[0m\n\u001B[0m\u001B[0;32m     77\u001B[0m \u001B[1;33m\u001B[0m\u001B[0m\n\u001B[0;32m     78\u001B[0m             \u001B[1;31m# In a future Fiona release the crs attribute of features will\u001B[0m\u001B[1;33m\u001B[0m\u001B[1;33m\u001B[0m\u001B[1;33m\u001B[0m\u001B[0m\n",
      "\u001B[1;32m~\\Anaconda3\\envs\\spatial_segregation\\lib\\site-packages\\fiona\\env.py\u001B[0m in \u001B[0;36mwrapper\u001B[1;34m(*args, **kwargs)\u001B[0m\n\u001B[0;32m    395\u001B[0m     \u001B[1;32mdef\u001B[0m \u001B[0mwrapper\u001B[0m\u001B[1;33m(\u001B[0m\u001B[1;33m*\u001B[0m\u001B[0margs\u001B[0m\u001B[1;33m,\u001B[0m \u001B[1;33m**\u001B[0m\u001B[0mkwargs\u001B[0m\u001B[1;33m)\u001B[0m\u001B[1;33m:\u001B[0m\u001B[1;33m\u001B[0m\u001B[1;33m\u001B[0m\u001B[0m\n\u001B[0;32m    396\u001B[0m         \u001B[1;32mif\u001B[0m \u001B[0mlocal\u001B[0m\u001B[1;33m.\u001B[0m\u001B[0m_env\u001B[0m\u001B[1;33m:\u001B[0m\u001B[1;33m\u001B[0m\u001B[1;33m\u001B[0m\u001B[0m\n\u001B[1;32m--> 397\u001B[1;33m             \u001B[1;32mreturn\u001B[0m \u001B[0mf\u001B[0m\u001B[1;33m(\u001B[0m\u001B[1;33m*\u001B[0m\u001B[0margs\u001B[0m\u001B[1;33m,\u001B[0m \u001B[1;33m**\u001B[0m\u001B[0mkwargs\u001B[0m\u001B[1;33m)\u001B[0m\u001B[1;33m\u001B[0m\u001B[1;33m\u001B[0m\u001B[0m\n\u001B[0m\u001B[0;32m    398\u001B[0m         \u001B[1;32melse\u001B[0m\u001B[1;33m:\u001B[0m\u001B[1;33m\u001B[0m\u001B[1;33m\u001B[0m\u001B[0m\n\u001B[0;32m    399\u001B[0m             \u001B[1;32mif\u001B[0m \u001B[0misinstance\u001B[0m\u001B[1;33m(\u001B[0m\u001B[0margs\u001B[0m\u001B[1;33m[\u001B[0m\u001B[1;36m0\u001B[0m\u001B[1;33m]\u001B[0m\u001B[1;33m,\u001B[0m \u001B[0mstr\u001B[0m\u001B[1;33m)\u001B[0m\u001B[1;33m:\u001B[0m\u001B[1;33m\u001B[0m\u001B[1;33m\u001B[0m\u001B[0m\n",
      "\u001B[1;32m~\\Anaconda3\\envs\\spatial_segregation\\lib\\site-packages\\fiona\\__init__.py\u001B[0m in \u001B[0;36mopen\u001B[1;34m(fp, mode, driver, schema, crs, encoding, layer, vfs, enabled_drivers, crs_wkt, **kwargs)\u001B[0m\n\u001B[0;32m    251\u001B[0m         \u001B[1;32mif\u001B[0m \u001B[0mmode\u001B[0m \u001B[1;32min\u001B[0m \u001B[1;33m(\u001B[0m\u001B[1;34m'a'\u001B[0m\u001B[1;33m,\u001B[0m \u001B[1;34m'r'\u001B[0m\u001B[1;33m)\u001B[0m\u001B[1;33m:\u001B[0m\u001B[1;33m\u001B[0m\u001B[1;33m\u001B[0m\u001B[0m\n\u001B[0;32m    252\u001B[0m             c = Collection(path, mode, driver=driver, encoding=encoding,\n\u001B[1;32m--> 253\u001B[1;33m                            layer=layer, enabled_drivers=enabled_drivers, **kwargs)\n\u001B[0m\u001B[0;32m    254\u001B[0m         \u001B[1;32melif\u001B[0m \u001B[0mmode\u001B[0m \u001B[1;33m==\u001B[0m \u001B[1;34m'w'\u001B[0m\u001B[1;33m:\u001B[0m\u001B[1;33m\u001B[0m\u001B[1;33m\u001B[0m\u001B[0m\n\u001B[0;32m    255\u001B[0m             \u001B[1;32mif\u001B[0m \u001B[0mschema\u001B[0m\u001B[1;33m:\u001B[0m\u001B[1;33m\u001B[0m\u001B[1;33m\u001B[0m\u001B[0m\n",
      "\u001B[1;32m~\\Anaconda3\\envs\\spatial_segregation\\lib\\site-packages\\fiona\\collection.py\u001B[0m in \u001B[0;36m__init__\u001B[1;34m(self, path, mode, driver, schema, crs, encoding, layer, vsi, archive, enabled_drivers, crs_wkt, ignore_fields, ignore_geometry, **kwargs)\u001B[0m\n\u001B[0;32m    157\u001B[0m             \u001B[1;32mif\u001B[0m \u001B[0mself\u001B[0m\u001B[1;33m.\u001B[0m\u001B[0mmode\u001B[0m \u001B[1;33m==\u001B[0m \u001B[1;34m'r'\u001B[0m\u001B[1;33m:\u001B[0m\u001B[1;33m\u001B[0m\u001B[1;33m\u001B[0m\u001B[0m\n\u001B[0;32m    158\u001B[0m                 \u001B[0mself\u001B[0m\u001B[1;33m.\u001B[0m\u001B[0msession\u001B[0m \u001B[1;33m=\u001B[0m \u001B[0mSession\u001B[0m\u001B[1;33m(\u001B[0m\u001B[1;33m)\u001B[0m\u001B[1;33m\u001B[0m\u001B[1;33m\u001B[0m\u001B[0m\n\u001B[1;32m--> 159\u001B[1;33m                 \u001B[0mself\u001B[0m\u001B[1;33m.\u001B[0m\u001B[0msession\u001B[0m\u001B[1;33m.\u001B[0m\u001B[0mstart\u001B[0m\u001B[1;33m(\u001B[0m\u001B[0mself\u001B[0m\u001B[1;33m,\u001B[0m \u001B[1;33m**\u001B[0m\u001B[0mkwargs\u001B[0m\u001B[1;33m)\u001B[0m\u001B[1;33m\u001B[0m\u001B[1;33m\u001B[0m\u001B[0m\n\u001B[0m\u001B[0;32m    160\u001B[0m             \u001B[1;32melif\u001B[0m \u001B[0mself\u001B[0m\u001B[1;33m.\u001B[0m\u001B[0mmode\u001B[0m \u001B[1;32min\u001B[0m \u001B[1;33m(\u001B[0m\u001B[1;34m'a'\u001B[0m\u001B[1;33m,\u001B[0m \u001B[1;34m'w'\u001B[0m\u001B[1;33m)\u001B[0m\u001B[1;33m:\u001B[0m\u001B[1;33m\u001B[0m\u001B[1;33m\u001B[0m\u001B[0m\n\u001B[0;32m    161\u001B[0m                 \u001B[0mself\u001B[0m\u001B[1;33m.\u001B[0m\u001B[0msession\u001B[0m \u001B[1;33m=\u001B[0m \u001B[0mWritingSession\u001B[0m\u001B[1;33m(\u001B[0m\u001B[1;33m)\u001B[0m\u001B[1;33m\u001B[0m\u001B[1;33m\u001B[0m\u001B[0m\n",
      "\u001B[1;32mfiona/ogrext.pyx\u001B[0m in \u001B[0;36mfiona.ogrext.Session.start\u001B[1;34m()\u001B[0m\n",
      "\u001B[1;32mfiona/_shim.pyx\u001B[0m in \u001B[0;36mfiona._shim.gdal_open_vector\u001B[1;34m()\u001B[0m\n",
      "\u001B[1;31mDriverError\u001B[0m: ..\\data\\raw\\city_1846.shp: No such file or directory"
     ]
    }
   ],
   "source": [
    "district_codes = pd.read_csv(data_dir / 'district_codes_1878.csv')\n",
    "district_codes = {k: v for k, v in district_codes.itertuples(index=False)}\n",
    "\n",
    "location_data = gpd.read_file(data_dir / 'raw' / 'plots_1878.shp').to_crs(epsg=3067)\n",
    "location_data = split_plots(location_data, target_col='NUMBER')\n",
    "location_data['district'] = [district_codes[int(d)] for d in location_data['DISTRICT']]\n",
    "location_data['plot_number'] = [str(i) for i in location_data['NUMBER']]\n",
    "location_data = location_data.set_index(['district', 'plot_number'])\n",
    "city = gpd.read_file(data_dir / 'raw' / 'city_1846.shp')\n",
    "location_data = location_data[[plot for plot in location_data.geometry if city.contains(plot.centroid)]]"
   ]
  },
  {
   "cell_type": "code",
   "execution_count": null,
   "metadata": {
    "pycharm": {
     "name": "#%%\n"
    }
   },
   "outputs": [],
   "source": [
    "income = pd.read_csv(data_dir / 'interim' / 'income_tax_record_1880.csv', index_col=0)\n",
    "income['total_income'] = income.loc[:, ['estate_income', 'business_income', 'salary_pension_income']].sum(axis=1)\n",
    "income"
   ]
  },
  {
   "cell_type": "code",
   "execution_count": null,
   "metadata": {
    "pycharm": {
     "name": "#%%\n"
    }
   },
   "outputs": [],
   "source": [
    "income.describe()"
   ]
  },
  {
   "cell_type": "code",
   "execution_count": null,
   "metadata": {
    "pycharm": {
     "name": "#%%\n"
    }
   },
   "outputs": [],
   "source": [
    "income.total_income.hist()\n",
    "plt.show()"
   ]
  },
  {
   "cell_type": "code",
   "execution_count": null,
   "metadata": {
    "pycharm": {
     "name": "#%%\n"
    }
   },
   "outputs": [],
   "source": [
    "income['total_income_log'] = income.total_income.apply(lambda x: np.log(x) if x > 0 else 0)\n",
    "income.total_income_log.hist()\n",
    "plt.show()"
   ]
  },
  {
   "cell_type": "code",
   "execution_count": null,
   "metadata": {
    "pycharm": {
     "name": "#%%\n"
    }
   },
   "outputs": [],
   "source": [
    "income.salary_pension_income.hist()\n",
    "plt.show()"
   ]
  },
  {
   "cell_type": "code",
   "execution_count": null,
   "metadata": {
    "pycharm": {
     "name": "#%%\n"
    }
   },
   "outputs": [],
   "source": [
    "data = location_data.join(income)\n",
    "data.head()"
   ]
  }
 ],
 "metadata": {
  "kernelspec": {
   "display_name": "Python 3",
   "language": "python",
   "name": "python3"
  },
  "language_info": {
   "codemirror_mode": {
    "name": "ipython",
    "version": 3
   },
   "file_extension": ".py",
   "mimetype": "text/x-python",
   "name": "python",
   "nbconvert_exporter": "python",
   "pygments_lexer": "ipython3",
   "version": "3.7.3"
  }
 },
 "nbformat": 4,
 "nbformat_minor": 1
}