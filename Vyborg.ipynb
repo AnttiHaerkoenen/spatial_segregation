{
 "cells": [
  {
   "cell_type": "code",
   "execution_count": 10,
   "metadata": {
    "collapsed": true
   },
   "outputs": [
    {
     "name": "stdout",
     "output_type": "stream",
     "text": [
      "{'km': 2.5731651237740208e-06}\n              km\n0   5.563885e-06\n1   7.725133e-06\n2   1.482250e-06\n3   4.788151e-06\n4   1.797408e-06\n5   2.962352e-06\n6   3.353332e-06\n7   3.715237e-06\n8   3.136718e-06\n9   3.734224e-06\n10  2.739558e-06\n11  2.385102e-06\n12  5.046858e-06\n13  6.057741e-06\n14  2.064020e-06\n15  1.084456e-06\n16  3.747203e-06\n17  2.874586e-06\n18  1.242212e-05\n19  8.069689e-06\n20  1.177454e-06\n21  1.264966e-06\n22  1.453655e-06\n23  8.651385e-06\n24  1.488093e-06\n25  3.507391e-06\n26  7.465169e-06\n27  9.122297e-07\n28  1.628005e-06\n29  1.458616e-06\n..           ...\n70  4.386695e-07\n71  7.467135e-06\n72  6.046153e-06\n73  3.908716e-06\n74  4.718253e-06\n75  1.038771e-06\n76  1.745524e-06\n77  2.902429e-06\n78  4.776825e-06\n79  1.517211e-06\n80  3.254656e-06\n81  4.797692e-06\n82  2.126849e-06\n83  6.197821e-06\n84  1.307451e-06\n85  3.400514e-06\n86  2.451966e-06\n87  1.886236e-06\n88  2.292063e-06\n89  2.853187e-06\n90  3.703511e-06\n91  1.365733e-06\n92  5.779628e-07\n93  2.060628e-06\n94  1.999977e-06\n95  5.683311e-06\n96  5.149370e-06\n97  2.898261e-06\n98  2.573778e-06\n99  3.147471e-06\n\n[100 rows x 1 columns]"
     ]
    },
    {
     "name": "stdout",
     "output_type": "stream",
     "text": [
      "\n              km\n0   3.762515e-06\n1   7.082638e-06\n2   1.113126e-06\n3   3.498950e-06\n4   1.682793e-06\n5   2.929592e-06\n6   2.779594e-06\n7   9.081132e-07\n8   5.110166e-06\n9   8.190043e-06\n10  1.400059e-06\n11  5.605276e-07\n12  3.997595e-06\n13  5.130374e-06\n14  3.795173e-06\n15  2.996035e-06\n16  3.689141e-06\n17  1.578632e-06\n18  4.659507e-06\n19  4.062725e-06\n20  1.325412e-06\n21  2.167669e-06\n22  3.143558e-06\n23  2.241410e-06\n24  2.223050e-06\n25  3.199785e-06\n26  2.838192e-06\n27  3.669410e-06\n28  1.200373e-06\n29  3.094324e-06\n..           ...\n70  1.311458e-06\n71  1.248410e-06\n72  1.727463e-06\n73  3.652715e-06\n74  2.314675e-06\n75  2.373041e-06\n76  3.610258e-06\n77  8.283696e-07\n78  3.550122e-06\n79  2.036290e-06\n80  3.399211e-06\n81  7.437805e-06\n82  3.484826e-06\n83  1.905157e-06\n84  2.616318e-06\n85  9.138993e-06\n86  4.013932e-06\n87  3.648498e-06\n88  3.029389e-06\n89  7.266564e-07\n90  8.962660e-06\n91  6.632942e-07\n92  2.978441e-06\n93  3.238541e-06\n94  4.715392e-06\n95  1.966636e-06\n96  5.458071e-06\n97  5.032518e-07\n98  5.936646e-06\n99  8.537692e-07\n\n[100 rows x 1 columns]\n              km\n0   4.031274e-06\n1   3.436283e-06\n2   2.811413e-06\n3   3.036328e-07\n4   1.790707e-06\n5   1.336089e-06\n6   5.373381e-06\n7   3.098260e-06\n8   4.594757e-07\n9   1.665731e-06\n10  2.248286e-06\n11  7.179253e-07\n12  1.535070e-06\n13  4.893116e-06\n14  9.029614e-07\n15  5.042087e-06\n16  4.871807e-06\n17  2.540683e-06\n18  9.367062e-07\n19  1.040187e-06\n20  4.235477e-06\n21  2.237246e-06\n22  7.633786e-07\n23  9.810693e-07\n24  1.469179e-06\n25  5.441110e-06\n26  1.854206e-06\n27  3.836260e-06\n28  2.237846e-06\n29  4.604233e-06\n..           ...\n70  1.742715e-06\n71  3.598861e-06\n72  3.843445e-06\n73  1.945839e-06\n74  2.803978e-06\n75  9.791047e-07\n76  2.919058e-06\n77  1.284637e-06\n78  1.208423e-06\n79  2.673500e-06\n80  2.851027e-07\n81  8.852388e-07\n82  2.652289e-06\n83  1.677272e-06\n84  2.531725e-06\n85  7.251787e-06\n86  3.306830e-06\n87  2.912581e-06\n88  3.124180e-06\n89  2.101153e-06\n90  1.701109e-06\n91  3.994659e-07\n92  5.505942e-07\n93  3.716543e-06\n94  1.629221e-06\n95  1.206269e-06\n96  2.548619e-06\n97  1.961170e-06\n98  1.472965e-06\n99  3.707128e-06\n\n[100 rows x 1 columns]\n"
     ]
    }
   ],
   "source": [
    "import requests\n",
    "import pandas as pd\n",
    "import matplotlib.pyplot as plt\n",
    "import matplotlib\n",
    "matplotlib.style.use('ggplot')\n",
    "\n",
    "from spatial_segregation import segregation_analysis, kde, data, segregation_indices\n",
    "\n",
    "URL = 'https://raw.githubusercontent.com/AnttiHaerkoenen/spatial_segregation/master/data/'\n",
    "\n",
    "\n",
    "v80 = data.aggregate_sum(data.reform(pd.read_csv(URL + '1880.csv', sep='\\t')))\n",
    "v00 = data.aggregate_sum(data.reform(pd.read_csv(URL + '1900.csv', sep='\\t')))\n",
    "v20 = data.aggregate_sum(data.reform(pd.read_csv(URL + '1920.csv', sep='\\t')))\n",
    "\n",
    "pop_data = {\n",
    "    1880: v80,\n",
    "    1900: v00,\n",
    "    1920: v20\n",
    "}\n",
    "\n",
    "r = requests.get(URL + 'points1878.geojson')\n",
    "if r.status_code == 200:\n",
    "    point_data = r.json()\n",
    "else:\n",
    "    print(\"interwebz fail\")\n",
    "\n",
    "cells = [i for i in range(15, 61, 15)]\n",
    "bws = [i for i in range(20, 60, 10)]\n",
    "\n",
    "d = {year: data.add_coordinates(pop_data[year], point_data) for year in pop_data}\n",
    "results = []\n",
    "\n",
    "ana1 = segregation_analysis.SegregationAnalysis(d[1880], 50, 50, 'distance_decay', convex_hull=False)\n",
    "ana2 = segregation_analysis.SegregationAnalysis(d[1900], 50, 50, 'distance_decay', convex_hull=False)\n",
    "ana3 = segregation_analysis.SegregationAnalysis(d[1920], 50, 50, 'distance_decay', convex_hull=False)\n",
    "print(ana1.indices)\n",
    "\n",
    "ana1.simulate(100)\n",
    "ana2.simulate(100)\n",
    "ana3.simulate(100)\n",
    "print(ana1.simulations)\n",
    "print(ana2.simulations)\n",
    "print(ana3.simulations)\n",
    "\n",
    "# ana1.simulations.plot.hist()\n",
    "# plt.show()"
   ]
  },
  {
   "cell_type": "code",
   "execution_count": 2,
   "metadata": {},
   "outputs": [],
   "source": [
    ""
   ]
  },
  {
   "cell_type": "code",
   "execution_count": 1,
   "metadata": {},
   "outputs": [],
   "source": [
    ""
   ]
  },
  {
   "cell_type": "code",
   "execution_count": null,
   "metadata": {},
   "outputs": [],
   "source": [
    ""
   ]
  }
 ],
 "metadata": {
  "kernelspec": {
   "display_name": "Python 2",
   "language": "python",
   "name": "python2"
  },
  "language_info": {
   "codemirror_mode": {
    "name": "ipython",
    "version": 2.0
   },
   "file_extension": ".py",
   "mimetype": "text/x-python",
   "name": "python",
   "nbconvert_exporter": "python",
   "pygments_lexer": "ipython2",
   "version": "2.7.6"
  }
 },
 "nbformat": 4,
 "nbformat_minor": 0
}