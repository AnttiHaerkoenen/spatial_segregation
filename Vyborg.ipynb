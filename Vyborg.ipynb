{
 "cells": [
  {
   "cell_type": "code",
   "execution_count": 1,
   "metadata": {
    "collapsed": true
   },
   "outputs": [
    {
     "name": "stdout",
     "output_type": "stream",
     "text": [
      "{'km': 9.8208438998579293e-07}\n"
     ]
    }
   ],
   "source": [
    "import requests\n",
    "import pandas as pd\n",
    "import matplotlib.pyplot as plt\n",
    "import matplotlib\n",
    "matplotlib.style.use('ggplot')\n",
    "\n",
    "from spatial_segregation import segregation_analysis, kde, data, segregation_indices\n",
    "\n",
    "URL = 'https://raw.githubusercontent.com/AnttiHaerkoenen/spatial_segregation/master/data/'\n",
    "\n",
    "\n",
    "v80 = data.aggregate_sum(data.reform(pd.read_csv(URL + '1880.csv', sep='\\t')))\n",
    "v00 = data.aggregate_sum(data.reform(pd.read_csv(URL + '1900.csv', sep='\\t')))\n",
    "v20 = data.aggregate_sum(data.reform(pd.read_csv(URL + '1920.csv', sep='\\t')))\n",
    "\n",
    "pop_data = {\n",
    "    1880: v80,\n",
    "    1900: v00,\n",
    "    1920: v20\n",
    "}\n",
    "\n",
    "r = requests.get(URL + 'points1878.geojson')\n",
    "if r.status_code == 200:\n",
    "    point_data = r.json()\n",
    "else:\n",
    "    print(\"interwebz fail\")\n",
    "\n",
    "cells = [i for i in range(15, 61, 15)]\n",
    "bws = [i for i in range(20, 60, 10)]\n",
    "\n",
    "d = {year: data.add_coordinates(pop_data[year], point_data) for year in pop_data}\n",
    "results = []\n",
    "\n",
    "ana1 = segregation_analysis.SegregationAnalysis(d[1880], 25, 100, 'distance_decay', convex_hull=False)\n",
    "# ana2 = segregation_analysis.SegregationAnalysis(d[1900], 50, 50, 'distance_decay', convex_hull=False)\n",
    "# ana3 = segregation_analysis.SegregationAnalysis(d[1920], 50, 50, 'distance_decay', convex_hull=False)\n",
    "print(ana1.indices)\n",
    "\n",
    "ana1.simulate(100)\n",
    "# ana2.simulate(100)\n",
    "# ana3.simulate(100)\n",
    "# print(ana1.simulations)\n",
    "# print(ana2.simulations)\n",
    "# print(ana3.simulations)\n",
    "\n",
    "ana1.plot('km')\n",
    "ana1.plot_kde(style="ggplot")"
   ]
  },
  {
   "cell_type": "code",
   "execution_count": 2,
   "metadata": {},
   "outputs": [],
   "source": [
    ""
   ]
  },
  {
   "cell_type": "code",
   "execution_count": 1,
   "metadata": {},
   "outputs": [],
   "source": [
    ""
   ]
  },
  {
   "cell_type": "code",
   "execution_count": null,
   "metadata": {},
   "outputs": [],
   "source": [
    ""
   ]
  }
 ],
 "metadata": {
  "kernelspec": {
   "display_name": "Python 2",
   "language": "python",
   "name": "python2"
  },
  "language_info": {
   "codemirror_mode": {
    "name": "ipython",
    "version": 2.0
   },
   "file_extension": ".py",
   "mimetype": "text/x-python",
   "name": "python",
   "nbconvert_exporter": "python",
   "pygments_lexer": "ipython2",
   "version": "2.7.6"
  }
 },
 "nbformat": 4,
 "nbformat_minor": 0
}
