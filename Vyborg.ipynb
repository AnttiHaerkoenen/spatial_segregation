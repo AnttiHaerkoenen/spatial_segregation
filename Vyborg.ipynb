{
 "cells": [
  {
   "cell_type": "code",
   "execution_count": 4,
   "metadata": {
    "collapsed": true
   },
   "outputs": [
    {
     "name": "stdout",
     "output_type": "stream",
     "text": [
      "{'indices': {'km': 2.5731651237740208e-06}, 'cell_size': 50, 'bw': 50, '_simulations_list': [], 'data':              x          y  host  other\n1    28.730747  60.714150     2      0\n2    28.730947  60.714406    23      0\n3    28.731250  60.714597     0      0\n4    28.731504  60.714717     2      0\n5    28.732107  60.714596     7      0\n6    28.731726  60.714377     9      0\n7    28.731708  60.714249     0      0\n8    28.731499  60.714134    37      0\n9    28.731136  60.713989    17      0\n10   28.731796  60.713695    17      0\n11   28.732229  60.713821    22      0\n12   28.732383  60.714037    40      1\n14   28.733023  60.714356     8      0\n15   28.733486  60.714146    14      0\n16   28.733047  60.713912     0      0\n17   28.732775  60.713671    56      0\n19   28.733178  60.713408     2     10\n20   28.733565  60.713644    38      0\n21   28.734048  60.713898    27      0\n23   28.734339  60.713601    21      0\n24   28.734957  60.713480    17     23\n25   28.734543  60.713236    12      5\n26   28.734094  60.713048    14      7\n27   28.733600  60.713029     4      0\n28   28.733368  60.713229    21      3\n29   28.734844  60.712784    31      0\n31   28.735225  60.713179     4      0\n33   28.735826  60.713205     7      6\n34   28.736249  60.713049    23     15\n35   28.735685  60.712872    26      2\n..         ...        ...   ...    ...\n110  28.736140  60.711596     9      1\n111  28.736526  60.711407    45      0\n112  28.735940  60.711208     0      0\n113  28.735208  60.711355     5      8\n114  28.734816  60.711511    27      2\n116  28.737730  60.711078    77      6\n117  28.737145  60.710908    24      7\n118  28.734688  60.711123    24      3\n119  28.735280  60.710892    19      0\n120  28.735681  60.710749    19      5\n121  28.735372  60.710515    11      0\n122  28.735043  60.710640    15      0\n123  28.734539  60.710816    18      0\n124  28.734016  60.710967    15      0\n126  28.736196  60.710552    21      1\n127  28.736687  60.710370    32      3\n128  28.736459  60.710101    15      0\n129  28.735969  60.710285    23      2\n130  28.737298  60.709778     8      0\n131  28.737630  60.710012    18      0\n133  28.738644  60.709624    23      0\n134  28.736751  60.709350    38      0\n135  28.735164  60.709808     0      0\n136  28.734330  60.710425    32      0\n138  28.734305  60.710002    14      0\n149  28.744070  60.709893     8      0\n154  28.740811  60.707772     9      4\n163  28.744119  60.709192    12      0\n164  28.744773  60.709623     0      0\n166  28.745029  60.708840    47      0\n\n[123 rows x 4 columns], 'kernel': 'distance_decay', 'alpha': 1, 'buffer': 0, 'convex_hull': False}\n"
     ]
    }
   ],
   "source": [
    "import requests\n",
    "import pandas as pd\n",
    "\n",
    "from spatial_segregation import segregation_analysis, kde, data, segregation_indices\n",
    "\n",
    "URL = 'https://raw.githubusercontent.com/AnttiHaerkoenen/spatial_segregation/master/data/'\n",
    "\n",
    "\n",
    "v80 = data.aggregate_sum(data.reform(pd.read_csv(URL + '1880.csv', sep='\\t')))\n",
    "v00 = data.aggregate_sum(data.reform(pd.read_csv(URL + '1900.csv', sep='\\t')))\n",
    "v20 = data.aggregate_sum(data.reform(pd.read_csv(URL + '1920.csv', sep='\\t')))\n",
    "\n",
    "pop_data = {\n",
    "    1880: v80,\n",
    "    1900: v00,\n",
    "    1920: v20\n",
    "}\n",
    "\n",
    "r = requests.get(URL + 'points1878.geojson')\n",
    "if r.status_code == 200:\n",
    "    point_data = r.json()\n",
    "else:\n",
    "    print(\"interwebz fail\")\n",
    "\n",
    "cells = [i for i in range(15, 61, 15)]\n",
    "bws = [i for i in range(20, 60, 10)]\n",
    "\n",
    "d = {year: data.add_coordinates(pop_data[year], point_data) for year in pop_data}\n",
    "results = []\n",
    "\n",
    "ana = segregation_analysis.SegregationAnalysis(d[1880], 50, 50, 'distance_decay', convex_hull=False)\n",
    "print(ana.__dict__)\n",
    "# ana.simulate(10)\n",
    "# print(ana.simulations)"
   ]
  },
  {
   "cell_type": "code",
   "execution_count": 1,
   "metadata": {},
   "outputs": [],
   "source": [
    ""
   ]
  },
  {
   "cell_type": "code",
   "execution_count": null,
   "metadata": {},
   "outputs": [],
   "source": [
    ""
   ]
  },
  {
   "cell_type": "code",
   "execution_count": null,
   "outputs": [],
   "source": [
    ""
   ]
  }
 ],
 "metadata": {
  "kernelspec": {
   "display_name": "Python 2",
   "language": "python",
   "name": "python2"
  },
  "language_info": {
   "codemirror_mode": {
    "name": "ipython",
    "version": 2.0
   },
   "file_extension": ".py",
   "mimetype": "text/x-python",
   "name": "python",
   "nbconvert_exporter": "python",
   "pygments_lexer": "ipython2",
   "version": "2.7.6"
  }
 },
 "nbformat": 4,
 "nbformat_minor": 0
}